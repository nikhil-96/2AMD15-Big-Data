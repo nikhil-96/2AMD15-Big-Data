{
 "cells": [
  {
   "cell_type": "code",
   "execution_count": 1,
   "metadata": {
    "id": "-USQNv0Whyyi"
   },
   "outputs": [
    {
     "name": "stderr",
     "output_type": "stream",
     "text": [
      "WARNING: An illegal reflective access operation has occurred\n",
      "WARNING: Illegal reflective access by org.apache.spark.unsafe.Platform (file:/usr/local/Cellar/apache-spark/3.2.1/libexec/jars/spark-unsafe_2.12-3.2.1.jar) to constructor java.nio.DirectByteBuffer(long,int)\n",
      "WARNING: Please consider reporting this to the maintainers of org.apache.spark.unsafe.Platform\n",
      "WARNING: Use --illegal-access=warn to enable warnings of further illegal reflective access operations\n",
      "WARNING: All illegal access operations will be denied in a future release\n",
      "Using Spark's default log4j profile: org/apache/spark/log4j-defaults.properties\n",
      "Setting default log level to \"WARN\".\n",
      "To adjust logging level use sc.setLogLevel(newLevel). For SparkR, use setLogLevel(newLevel).\n",
      "22/03/14 16:53:59 WARN NativeCodeLoader: Unable to load native-hadoop library for your platform... using builtin-java classes where applicable\n"
     ]
    }
   ],
   "source": [
    "import findspark\n",
    "findspark.init()\n",
    "import pyspark\n",
    "\n",
    "from pyspark import SparkContext\n",
    "from pyspark.conf import SparkConf\n",
    "from pyspark.sql import SparkSession\n",
    "\n",
    "conf = SparkConf().setAll([('spark.executor.memory', '8g'), ('spark.executor.cores', '3'), ('spark.cores.max', '3'), ('spark.driver.memory','8g')])\n",
    "\n",
    "\n",
    "sc = SparkContext(conf=conf).getOrCreate()\n",
    "ss = SparkSession(sc).builder.config(\"spark.driver.memory\", \"6g\").getOrCreate()\n",
    "\n",
    "import pyspark.sql.functions as f\n",
    "#import pyspark"
   ]
  },
  {
   "cell_type": "code",
   "execution_count": 35,
   "metadata": {},
   "outputs": [
    {
     "data": {
      "text/plain": [
       "8"
      ]
     },
     "execution_count": 35,
     "metadata": {},
     "output_type": "execute_result"
    }
   ],
   "source": [
    "#import multiprocessing\n",
    "\n",
    "#multiprocessing.cpu_count()"
   ]
  },
  {
   "cell_type": "code",
   "execution_count": 2,
   "metadata": {},
   "outputs": [
    {
     "data": {
      "text/html": [
       "\n",
       "            <div>\n",
       "                <p><b>SparkSession - in-memory</b></p>\n",
       "                \n",
       "        <div>\n",
       "            <p><b>SparkContext</b></p>\n",
       "\n",
       "            <p><a href=\"http://wlan-247221.nbw.tue.nl:4040\">Spark UI</a></p>\n",
       "\n",
       "            <dl>\n",
       "              <dt>Version</dt>\n",
       "                <dd><code>v3.2.1</code></dd>\n",
       "              <dt>Master</dt>\n",
       "                <dd><code>local[*]</code></dd>\n",
       "              <dt>AppName</dt>\n",
       "                <dd><code>pyspark-shell</code></dd>\n",
       "            </dl>\n",
       "        </div>\n",
       "        \n",
       "            </div>\n",
       "        "
      ],
      "text/plain": [
       "<pyspark.sql.session.SparkSession at 0x7fe131935fd0>"
      ]
     },
     "execution_count": 2,
     "metadata": {},
     "output_type": "execute_result"
    }
   ],
   "source": [
    "ss"
   ]
  },
  {
   "cell_type": "code",
   "execution_count": 3,
   "metadata": {},
   "outputs": [],
   "source": [
    "#4.930\n",
    "#0.811"
   ]
  },
  {
   "cell_type": "code",
   "execution_count": 4,
   "metadata": {
    "colab": {
     "base_uri": "https://localhost:8080/"
    },
    "id": "xsP1VzMJh0oJ",
    "outputId": "d8727e3a-83b5-4089-86f0-69ee607412d9"
   },
   "outputs": [
    {
     "name": "stdout",
     "output_type": "stream",
     "text": [
      "4.944303035736084\n"
     ]
    },
    {
     "name": "stderr",
     "output_type": "stream",
     "text": [
      "22/03/14 16:54:08 WARN CSVHeaderChecker: CSV header does not conform to the schema.\n",
      " Header: , station_id, date, tmp_val, dew_val\n",
      " Schema: _c0, station_id, date, tmp_val, dew_val\n",
      "Expected: _c0 but found: \n",
      "CSV file: file:///Users/nk_dan/Desktop/weather-ta2.csv\n",
      "[Stage 1:>                                                          (0 + 8) / 8]\r"
     ]
    },
    {
     "name": "stdout",
     "output_type": "stream",
     "text": [
      "+-----+-----------+----------+-------+-------+\n",
      "|  _c0| station_id|      date|tmp_val|dew_val|\n",
      "+-----+-----------+----------+-------+-------+\n",
      "|10000|08524099999|2016-01-01|    175|    147|\n",
      "|10001|08524099999|2016-01-02|    174|    159|\n",
      "|10002|08524099999|2016-01-03|    182|    160|\n",
      "|10003|08524099999|2016-01-04|    177|    162|\n",
      "|10004|08524099999|2016-01-05|    170|    167|\n",
      "|10005|08524099999|2016-01-06|    149|     76|\n",
      "|10006|08524099999|2016-01-07|    139|    101|\n",
      "|10007|08524099999|2016-01-08|    160|    138|\n",
      "|10008|08524099999|2016-01-09|    150|    109|\n",
      "|10009|08524099999|2016-01-10|    152|     92|\n",
      "|10010|08524099999|2016-01-11|    174|    158|\n",
      "|10011|08524099999|2016-01-12|    177|    172|\n",
      "|10012|08524099999|2016-01-13|    175|    163|\n",
      "|10013|08524099999|2016-01-14|    172|    156|\n",
      "|10014|08524099999|2016-01-15|    175|    153|\n",
      "|10015|08524099999|2016-01-16|    179|    168|\n",
      "|10016|08524099999|2016-01-17|    144|    131|\n",
      "|10017|08524099999|2016-01-18|    150|    139|\n",
      "|10018|08524099999|2016-01-19|    132|    121|\n",
      "|10019|08524099999|2016-01-20|    177|    161|\n",
      "+-----+-----------+----------+-------+-------+\n",
      "only showing top 20 rows\n",
      "\n"
     ]
    },
    {
     "name": "stderr",
     "output_type": "stream",
     "text": [
      "                                                                                \r"
     ]
    }
   ],
   "source": [
    "import time\n",
    "\n",
    "start = time.time()\n",
    "weather_df = ss.read.option('header', True).csv(\"weather-ta2.csv\").limit(20000).repartition('station_id')\n",
    "print(time.time() - start)\n",
    "weather_df.show()"
   ]
  },
  {
   "cell_type": "code",
   "execution_count": 5,
   "metadata": {
    "colab": {
     "base_uri": "https://localhost:8080/"
    },
    "id": "ou5Pbdith80-",
    "outputId": "19b2e25f-58bd-44b9-ff36-091f45b92c06"
   },
   "outputs": [
    {
     "name": "stdout",
     "output_type": "stream",
     "text": [
      "0.9762401580810547\n"
     ]
    },
    {
     "name": "stderr",
     "output_type": "stream",
     "text": [
      "22/03/14 16:54:12 WARN CSVHeaderChecker: CSV header does not conform to the schema.\n",
      " Header: , stock_name, date, price\n",
      " Schema: _c0, stock_name, date, price\n",
      "Expected: _c0 but found: \n",
      "CSV file: file:///Users/nk_dan/Desktop/stocks-ta2.csv\n",
      "[Stage 8:=======>                                                   (1 + 7) / 8]\r"
     ]
    },
    {
     "name": "stdout",
     "output_type": "stream",
     "text": [
      "+----+--------------------+----------+------+\n",
      "| _c0|          stock_name|      date| price|\n",
      "+----+--------------------+----------+------+\n",
      "| 229|1004.Asien--Austr...|2016-08-17|  74.8|\n",
      "| 498|1004.Asien--Austr...|2017-05-14| 66.49|\n",
      "| 677|1004.Asien--Austr...|2017-12-05| 46.52|\n",
      "|1229|10056.Asien--Aust...|2016-08-17| 471.0|\n",
      "|1498|10056.Asien--Aust...|2017-05-14| 393.0|\n",
      "|1677|10056.Asien--Aust...|2017-12-05| 342.0|\n",
      "|2229|10300.Asien--Aust...|2016-08-17| 563.0|\n",
      "|2498|10300.Asien--Aust...|2017-05-14| 816.0|\n",
      "|2677|10300.Asien--Aust...|2017-12-05|1011.0|\n",
      "|3229|10319.Asien--Aust...|2016-08-17|1536.0|\n",
      "|3498|10319.Asien--Aust...|2017-05-14|1990.0|\n",
      "|3677|10319.Asien--Aust...|2017-12-05|2550.0|\n",
      "|4229|10349.Asien--Aust...|2016-08-17|1040.0|\n",
      "|4498|10349.Asien--Aust...|2017-05-14|1327.0|\n",
      "|4677|10349.Asien--Aust...|2017-12-05|2017.0|\n",
      "|5229|10359.Asien--Aust...|2016-08-17|  80.0|\n",
      "|5498|10359.Asien--Aust...|2017-05-14|  73.0|\n",
      "|5677|10359.Asien--Aust...|2017-12-05|  66.0|\n",
      "|6229|1051.Asien--Austr...|2016-08-17|   7.7|\n",
      "|6498|1051.Asien--Austr...|2017-05-14|  8.18|\n",
      "+----+--------------------+----------+------+\n",
      "only showing top 20 rows\n",
      "\n"
     ]
    },
    {
     "name": "stderr",
     "output_type": "stream",
     "text": [
      "                                                                                \r"
     ]
    }
   ],
   "source": [
    "start = time.time()\n",
    "stocks_df=ss.read.option('header', True).csv('stocks-ta2.csv').repartition('date')\n",
    "print(time.time() - start)\n",
    "stocks_df.show()"
   ]
  },
  {
   "cell_type": "code",
   "execution_count": 6,
   "metadata": {
    "id": "z4v-mfkTCHkT"
   },
   "outputs": [],
   "source": [
    "weather_df = weather_df.select('station_id', 'date', 'tmp_val').cache()"
   ]
  },
  {
   "cell_type": "markdown",
   "metadata": {
    "id": "BehUsv1Q-862"
   },
   "source": []
  },
  {
   "cell_type": "markdown",
   "metadata": {
    "id": "swU8Eum0-8_K"
   },
   "source": [
    "-----\n",
    "\n",
    "**The code below is slow version**"
   ]
  },
  {
   "cell_type": "markdown",
   "metadata": {
    "id": "hPek_GPxiJgn"
   },
   "source": [
    "import timeit\n",
    "\n",
    "v1 = timeit.default_timer()\n",
    "\n",
    "weather_df.registerTempTable(\"df\")\n",
    " \n",
    "mylist = ss.sql(\"\"\"\n",
    "SELECT DISTINCT  u1.station_id,\n",
    "    u2.station_id\n",
    "FROM df as u1 JOIN df as u2 ON u1.station_id> u2.station_id;\n",
    "\"\"\").collect()\n",
    " \n",
    "v2 = timeit.default_timer()\n",
    "\n",
    "print(v2-v1)"
   ]
  },
  {
   "cell_type": "markdown",
   "metadata": {
    "id": "DoXaxXEsA3q1"
   },
   "source": [
    "weather_df.columns"
   ]
  },
  {
   "cell_type": "markdown",
   "metadata": {
    "id": "N4csrMgbaivZ"
   },
   "source": [
    "i, j = mylist[0]"
   ]
  },
  {
   "cell_type": "markdown",
   "metadata": {
    "id": "l5ILTQ1P7vTz"
   },
   "source": [
    "from pyspark.sql.functions import col\n",
    "from pyspark.sql.types import StructType\n",
    "\n",
    "v1 = timeit.default_timer()\n",
    "\n",
    "schema = weather_df.filter(weather_df.station_id == i).alias('a').join(weather_df.filter(weather_df.station_id == j)\\\n",
    "                                         .withColumnRenamed('station_id', 'station_id_2')\\\n",
    "                                         .withColumnRenamed('date', 'date_2')\\\n",
    "                                         .withColumnRenamed('tmp_val', 'tmp_val_2').alias('b'),\n",
    "                                            f.col(\"a.date\") == f.col(\"b.date_2\"), 'inner').schema\n",
    "\n",
    "df = ss.createDataFrame([], schema)\n",
    "\n",
    "for a, b in mylist:\n",
    "    df = df.union(weather_df.filter(weather_df.station_id == a).alias('a').join(weather_df.filter(weather_df.station_id == b)\\\n",
    "                                         .withColumnRenamed('station_id', 'station_id_2')\\\n",
    "                                         .withColumnRenamed('date', 'date_2')\\\n",
    "                                         .withColumnRenamed('tmp_val', 'tmp_val_2').alias('b'),\n",
    "                                            f.col(\"a.date\") == f.col(\"b.date_2\"), 'inner'))\n",
    "    \n",
    "df.show()\n",
    "\n",
    "v2 = timeit.default_timer()\n",
    "print(v2-v1)"
   ]
  },
  {
   "cell_type": "markdown",
   "metadata": {
    "id": "ZNfft5AA_CU0"
   },
   "source": [
    "----"
   ]
  },
  {
   "cell_type": "markdown",
   "metadata": {
    "id": "W6qdaPGy91yw"
   },
   "source": [
    "----"
   ]
  },
  {
   "cell_type": "markdown",
   "metadata": {
    "id": "_jN-3vFz_E8W"
   },
   "source": [
    "This code is faster version"
   ]
  },
  {
   "cell_type": "code",
   "execution_count": 7,
   "metadata": {},
   "outputs": [],
   "source": [
    "#0.363\n",
    "#"
   ]
  },
  {
   "cell_type": "code",
   "execution_count": 8,
   "metadata": {
    "colab": {
     "base_uri": "https://localhost:8080/"
    },
    "id": "Bwpe2t9-91Pd",
    "outputId": "430e6826-02af-404e-e188-7ec79ce8e9dc"
   },
   "outputs": [
    {
     "name": "stderr",
     "output_type": "stream",
     "text": [
      "                                                                                \r"
     ]
    },
    {
     "name": "stdout",
     "output_type": "stream",
     "text": [
      "+-----------+----------+-------+------------+----------+---------+\n",
      "| station_id|      date|tmp_val|station_id_2|    date_2|tmp_val_2|\n",
      "+-----------+----------+-------+------------+----------+---------+\n",
      "|08524099999|2016-01-01|    175| 02741099999|2016-01-01|       22|\n",
      "|08524099999|2016-01-01|    175| 03066099999|2016-01-01|       18|\n",
      "|08524099999|2016-01-01|    175| 01016099999|2016-01-01|        4|\n",
      "|08524099999|2016-01-01|    175| 06207099999|2016-01-01|       79|\n",
      "|08524099999|2016-01-01|    175| 04202299999|2016-01-01|     -200|\n",
      "|08524099999|2016-01-01|    175| 02845099999|2016-01-01|      -32|\n",
      "|08524099999|2016-01-01|    175| 06190099999|2016-01-01|       30|\n",
      "|08524099999|2016-01-01|    175| 04231099999|2016-01-01|     -289|\n",
      "|08524099999|2016-01-01|    175| 02520099999|2016-01-01|        6|\n",
      "|08524099999|2016-01-01|    175| 03862099999|2016-01-01|       23|\n",
      "|08524099999|2016-01-02|    174| 02741099999|2016-01-02|      -36|\n",
      "|08524099999|2016-01-02|    174| 03066099999|2016-01-02|       69|\n",
      "|08524099999|2016-01-02|    174| 01016099999|2016-01-02|        6|\n",
      "|08524099999|2016-01-02|    174| 06207099999|2016-01-02|       69|\n",
      "|08524099999|2016-01-02|    174| 04202299999|2016-01-02|     -194|\n",
      "|08524099999|2016-01-02|    174| 02845099999|2016-01-02|      -91|\n",
      "|08524099999|2016-01-02|    174| 06190099999|2016-01-02|      -10|\n",
      "|08524099999|2016-01-02|    174| 04231099999|2016-01-02|     -294|\n",
      "|08524099999|2016-01-02|    174| 02520099999|2016-01-02|        4|\n",
      "|08524099999|2016-01-02|    174| 03862099999|2016-01-02|      108|\n",
      "+-----------+----------+-------+------------+----------+---------+\n",
      "only showing top 20 rows\n",
      "\n"
     ]
    }
   ],
   "source": [
    "#start = time.time()\n",
    "\n",
    "df = weather_df.alias('a').join(weather_df.withColumnRenamed('station_id', 'station_id_2')\\\n",
    "                                          .withColumnRenamed('date', 'date_2')\\\n",
    "                                          .withColumnRenamed('tmp_val', 'tmp_val_2').alias('b'),\n",
    "                                            f.col(\"a.date\") == f.col(\"b.date_2\"), 'inner').filter('station_id > station_id_2')\n",
    "\n",
    "#print(time.time() - start)\n",
    "\n",
    "df.show()\n"
   ]
  },
  {
   "cell_type": "code",
   "execution_count": 9,
   "metadata": {
    "colab": {
     "base_uri": "https://localhost:8080/"
    },
    "id": "14Hd4iLG-gZ8",
    "outputId": "db8fc987-f383-4a58-a8f5-d0d944f8fe28"
   },
   "outputs": [
    {
     "name": "stderr",
     "output_type": "stream",
     "text": [
      "                                                                                \r"
     ]
    },
    {
     "data": {
      "text/plain": [
       "190000"
      ]
     },
     "execution_count": 9,
     "metadata": {},
     "output_type": "execute_result"
    }
   ],
   "source": [
    "df.count()"
   ]
  },
  {
   "cell_type": "markdown",
   "metadata": {
    "id": "NffxUEAp92ZN"
   },
   "source": [
    "----"
   ]
  },
  {
   "cell_type": "code",
   "execution_count": 10,
   "metadata": {
    "colab": {
     "base_uri": "https://localhost:8080/"
    },
    "id": "9BMT2DFUidRk",
    "outputId": "2c530430-852c-42b8-bf8d-e2be07787137"
   },
   "outputs": [
    {
     "name": "stdout",
     "output_type": "stream",
     "text": [
      "+-----------+----------+-------+------------+----------+---------+\n",
      "| station_id|      date|tmp_val|station_id_2|    date_2|tmp_val_2|\n",
      "+-----------+----------+-------+------------+----------+---------+\n",
      "|08524099999|2016-01-01|    175| 02741099999|2016-01-01|       22|\n",
      "|08524099999|2016-01-01|    175| 03066099999|2016-01-01|       18|\n",
      "|08524099999|2016-01-01|    175| 01016099999|2016-01-01|        4|\n",
      "|08524099999|2016-01-01|    175| 06207099999|2016-01-01|       79|\n",
      "|08524099999|2016-01-01|    175| 04202299999|2016-01-01|     -200|\n",
      "|08524099999|2016-01-01|    175| 02845099999|2016-01-01|      -32|\n",
      "|08524099999|2016-01-01|    175| 06190099999|2016-01-01|       30|\n",
      "|08524099999|2016-01-01|    175| 04231099999|2016-01-01|     -289|\n",
      "|08524099999|2016-01-01|    175| 02520099999|2016-01-01|        6|\n",
      "|08524099999|2016-01-01|    175| 03862099999|2016-01-01|       23|\n",
      "|08524099999|2016-01-02|    174| 02741099999|2016-01-02|      -36|\n",
      "|08524099999|2016-01-02|    174| 03066099999|2016-01-02|       69|\n",
      "|08524099999|2016-01-02|    174| 01016099999|2016-01-02|        6|\n",
      "|08524099999|2016-01-02|    174| 06207099999|2016-01-02|       69|\n",
      "|08524099999|2016-01-02|    174| 04202299999|2016-01-02|     -194|\n",
      "|08524099999|2016-01-02|    174| 02845099999|2016-01-02|      -91|\n",
      "|08524099999|2016-01-02|    174| 06190099999|2016-01-02|      -10|\n",
      "|08524099999|2016-01-02|    174| 04231099999|2016-01-02|     -294|\n",
      "|08524099999|2016-01-02|    174| 02520099999|2016-01-02|        4|\n",
      "|08524099999|2016-01-02|    174| 03862099999|2016-01-02|      108|\n",
      "+-----------+----------+-------+------------+----------+---------+\n",
      "only showing top 20 rows\n",
      "\n"
     ]
    }
   ],
   "source": [
    "df.show()"
   ]
  },
  {
   "cell_type": "code",
   "execution_count": 11,
   "metadata": {
    "id": "kvP69MFHDPg5"
   },
   "outputs": [
    {
     "data": {
      "text/plain": [
       "DataFrame[station_id: string, date: string, tmp_val: string]"
      ]
     },
     "execution_count": 11,
     "metadata": {},
     "output_type": "execute_result"
    }
   ],
   "source": [
    "df = df.select('station_id', 'station_id_2', 'date', 'tmp_val', 'tmp_val_2').cache()\n",
    "weather_df.unpersist()"
   ]
  },
  {
   "cell_type": "code",
   "execution_count": 12,
   "metadata": {
    "id": "AX_IX5vKDsoP"
   },
   "outputs": [],
   "source": [
    "from pyspark.sql.types import StringType, FloatType\n",
    "\n",
    "def max(a,b):\n",
    "  if float(a) > float(b):\n",
    "    return float(a)\n",
    "  else:\n",
    "    return float(b)\n",
    "\n",
    "def min(a,b):\n",
    "  if float(a) > float(b):\n",
    "    return float(b)\n",
    "  else:\n",
    "    return float(a)\n",
    "\n",
    "def avg(a,b):\n",
    "  return (float(a) + float(b))/2\n",
    "\n",
    "max_udf = f.udf(max, FloatType())\n",
    "min_udf = f.udf(min, FloatType())\n",
    "avg_udf = f.udf(avg, FloatType())"
   ]
  },
  {
   "cell_type": "code",
   "execution_count": 14,
   "metadata": {
    "id": "BAUaLKb29vc6"
   },
   "outputs": [
    {
     "name": "stdout",
     "output_type": "stream",
     "text": [
      "0.1499638557434082\n"
     ]
    }
   ],
   "source": [
    "start = time.time()\n",
    "\n",
    "df = df.withColumn('min', min_udf('tmp_val', 'tmp_val_2'))\\\n",
    "  .withColumn('avg', avg_udf('tmp_val', 'tmp_val_2'))\\\n",
    "  .withColumn('max', max_udf('tmp_val', 'tmp_val_2'))\n",
    "\n",
    "print(time.time() - start)"
   ]
  },
  {
   "cell_type": "code",
   "execution_count": 15,
   "metadata": {
    "colab": {
     "base_uri": "https://localhost:8080/"
    },
    "id": "H-aMrbC4DbKx",
    "outputId": "9b851667-68af-4848-b51f-223ca6f10e47"
   },
   "outputs": [
    {
     "name": "stderr",
     "output_type": "stream",
     "text": [
      "                                                                                \r"
     ]
    },
    {
     "name": "stdout",
     "output_type": "stream",
     "text": [
      "+-----------+------------+----------+-------+---------+------+-----+-----+\n",
      "| station_id|station_id_2|      date|tmp_val|tmp_val_2|   min|  avg|  max|\n",
      "+-----------+------------+----------+-------+---------+------+-----+-----+\n",
      "|08524099999| 02741099999|2016-01-01|    175|       22|  22.0| 98.5|175.0|\n",
      "|08524099999| 03066099999|2016-01-01|    175|       18|  18.0| 96.5|175.0|\n",
      "|08524099999| 01016099999|2016-01-01|    175|        4|   4.0| 89.5|175.0|\n",
      "|08524099999| 06207099999|2016-01-01|    175|       79|  79.0|127.0|175.0|\n",
      "|08524099999| 04202299999|2016-01-01|    175|     -200|-200.0|-12.5|175.0|\n",
      "|08524099999| 02845099999|2016-01-01|    175|      -32| -32.0| 71.5|175.0|\n",
      "|08524099999| 06190099999|2016-01-01|    175|       30|  30.0|102.5|175.0|\n",
      "|08524099999| 04231099999|2016-01-01|    175|     -289|-289.0|-57.0|175.0|\n",
      "|08524099999| 02520099999|2016-01-01|    175|        6|   6.0| 90.5|175.0|\n",
      "|08524099999| 03862099999|2016-01-01|    175|       23|  23.0| 99.0|175.0|\n",
      "|08524099999| 02741099999|2016-01-02|    174|      -36| -36.0| 69.0|174.0|\n",
      "|08524099999| 03066099999|2016-01-02|    174|       69|  69.0|121.5|174.0|\n",
      "|08524099999| 01016099999|2016-01-02|    174|        6|   6.0| 90.0|174.0|\n",
      "|08524099999| 06207099999|2016-01-02|    174|       69|  69.0|121.5|174.0|\n",
      "|08524099999| 04202299999|2016-01-02|    174|     -194|-194.0|-10.0|174.0|\n",
      "|08524099999| 02845099999|2016-01-02|    174|      -91| -91.0| 41.5|174.0|\n",
      "|08524099999| 06190099999|2016-01-02|    174|      -10| -10.0| 82.0|174.0|\n",
      "|08524099999| 04231099999|2016-01-02|    174|     -294|-294.0|-60.0|174.0|\n",
      "|08524099999| 02520099999|2016-01-02|    174|        4|   4.0| 89.0|174.0|\n",
      "|08524099999| 03862099999|2016-01-02|    174|      108| 108.0|141.0|174.0|\n",
      "+-----------+------------+----------+-------+---------+------+-----+-----+\n",
      "only showing top 20 rows\n",
      "\n"
     ]
    }
   ],
   "source": [
    "df.show()"
   ]
  },
  {
   "cell_type": "code",
   "execution_count": 16,
   "metadata": {
    "id": "VlsIXWWmFo89"
   },
   "outputs": [],
   "source": [
    "def unqiue_combination(a, b):\n",
    "  col = [a, b]\n",
    "  col.sort()\n",
    "  return '_'.join(col)\n",
    "\n",
    "my_udf = f.udf(unqiue_combination, StringType())"
   ]
  },
  {
   "cell_type": "code",
   "execution_count": 18,
   "metadata": {
    "id": "RvpgOSWkEcA-"
   },
   "outputs": [
    {
     "name": "stdout",
     "output_type": "stream",
     "text": [
      "0.11489105224609375\n"
     ]
    }
   ],
   "source": [
    "start = time.time()\n",
    "\n",
    "df = df.withColumn('combo_id', my_udf('station_id', 'station_id_2')).select('combo_id', 'date', 'min', 'avg', 'max').repartition('date')\n",
    "\n",
    "print(time.time() - start)"
   ]
  },
  {
   "cell_type": "code",
   "execution_count": 19,
   "metadata": {
    "colab": {
     "base_uri": "https://localhost:8080/"
    },
    "id": "f8219gfSGB2Q",
    "outputId": "759735a7-54f6-4d4c-fa79-b7a48d9a8fed"
   },
   "outputs": [
    {
     "name": "stderr",
     "output_type": "stream",
     "text": [
      "[Stage 59:====================================================> (194 + 6) / 200]\r"
     ]
    },
    {
     "name": "stdout",
     "output_type": "stream",
     "text": [
      "+--------------------+----------+------+-----+-----+\n",
      "|            combo_id|      date|   min|  avg|  max|\n",
      "+--------------------+----------+------+-----+-----+\n",
      "|02741099999_08524...|2016-08-17| 139.0|177.5|216.0|\n",
      "|03066099999_08524...|2016-08-17| 135.0|175.5|216.0|\n",
      "|01016099999_08524...|2016-08-17|  32.0|124.0|216.0|\n",
      "|06207099999_08524...|2016-08-17| 168.0|192.0|216.0|\n",
      "|04202299999_08524...|2016-08-17|  56.0|136.0|216.0|\n",
      "|02845099999_08524...|2016-08-17|  94.0|155.0|216.0|\n",
      "|06190099999_08524...|2016-08-17| 150.0|183.0|216.0|\n",
      "|04231099999_08524...|2016-08-17|  52.0|134.0|216.0|\n",
      "|02520099999_08524...|2016-08-17| 136.0|176.0|216.0|\n",
      "|03862099999_08524...|2016-08-17| 127.0|171.5|216.0|\n",
      "|02741099999_08524...|2017-05-14|  -5.0| 85.0|175.0|\n",
      "|03066099999_08524...|2017-05-14| 126.0|150.5|175.0|\n",
      "|01016099999_08524...|2017-05-14|-125.0| 25.0|175.0|\n",
      "|06207099999_08524...|2017-05-14| 115.0|145.0|175.0|\n",
      "|04202299999_08524...|2017-05-14| -11.0| 82.0|175.0|\n",
      "|02845099999_08524...|2017-05-14| -33.0| 71.0|175.0|\n",
      "|06190099999_08524...|2017-05-14| 110.0|142.5|175.0|\n",
      "|04231099999_08524...|2017-05-14|  26.0|100.5|175.0|\n",
      "|02520099999_08524...|2017-05-14|  62.0|118.5|175.0|\n",
      "|03862099999_08524...|2017-05-14| 135.0|155.0|175.0|\n",
      "+--------------------+----------+------+-----+-----+\n",
      "only showing top 20 rows\n",
      "\n"
     ]
    },
    {
     "name": "stderr",
     "output_type": "stream",
     "text": [
      "                                                                                \r"
     ]
    }
   ],
   "source": [
    "df.show()"
   ]
  },
  {
   "cell_type": "code",
   "execution_count": null,
   "metadata": {
    "id": "x2JA4HeiGDq6"
   },
   "outputs": [],
   "source": []
  },
  {
   "cell_type": "markdown",
   "metadata": {
    "id": "6Bf4lTZcHlnt"
   },
   "source": [
    "------"
   ]
  },
  {
   "cell_type": "code",
   "execution_count": 20,
   "metadata": {
    "colab": {
     "base_uri": "https://localhost:8080/"
    },
    "id": "igXhayLNHmUr",
    "outputId": "e17800e5-1c47-492a-96e6-c2eb41ecddc1"
   },
   "outputs": [
    {
     "name": "stderr",
     "output_type": "stream",
     "text": [
      "22/03/14 16:54:34 WARN CSVHeaderChecker: CSV header does not conform to the schema.\n",
      " Header: , stock_name, date, price\n",
      " Schema: _c0, stock_name, date, price\n",
      "Expected: _c0 but found: \n",
      "CSV file: file:///Users/nk_dan/Desktop/stocks-ta2.csv\n"
     ]
    },
    {
     "name": "stdout",
     "output_type": "stream",
     "text": [
      "+---+--------------------+----------+-----+\n",
      "|_c0|          stock_name|      date|price|\n",
      "+---+--------------------+----------+-----+\n",
      "|  0|1004.Asien--Austr...|2016-01-01| 57.5|\n",
      "|  1|1004.Asien--Austr...|2016-01-02| 57.5|\n",
      "|  2|1004.Asien--Austr...|2016-01-03| 57.5|\n",
      "|  3|1004.Asien--Austr...|2016-01-04| 57.8|\n",
      "|  4|1004.Asien--Austr...|2016-01-05|57.17|\n",
      "|  5|1004.Asien--Austr...|2016-01-06|57.65|\n",
      "|  6|1004.Asien--Austr...|2016-01-07| 58.4|\n",
      "|  7|1004.Asien--Austr...|2016-01-08|56.44|\n",
      "|  8|1004.Asien--Austr...|2016-01-09|56.44|\n",
      "|  9|1004.Asien--Austr...|2016-01-10|56.44|\n",
      "| 10|1004.Asien--Austr...|2016-01-11| 56.0|\n",
      "| 11|1004.Asien--Austr...|2016-01-12|56.72|\n",
      "| 12|1004.Asien--Austr...|2016-01-13|56.11|\n",
      "| 13|1004.Asien--Austr...|2016-01-14|55.08|\n",
      "| 14|1004.Asien--Austr...|2016-01-15|56.97|\n",
      "| 15|1004.Asien--Austr...|2016-01-16|56.97|\n",
      "| 16|1004.Asien--Austr...|2016-01-17|56.97|\n",
      "| 17|1004.Asien--Austr...|2016-01-18|54.69|\n",
      "| 18|1004.Asien--Austr...|2016-01-19|56.33|\n",
      "| 19|1004.Asien--Austr...|2016-01-20|56.89|\n",
      "+---+--------------------+----------+-----+\n",
      "only showing top 20 rows\n",
      "\n"
     ]
    }
   ],
   "source": [
    "stocks_df=ss.read.option('header', True).csv('stocks-ta2.csv').limit(20000)\n",
    "stocks_df.show()"
   ]
  },
  {
   "cell_type": "code",
   "execution_count": 21,
   "metadata": {
    "id": "O8q1EEgXQBRn"
   },
   "outputs": [
    {
     "name": "stdout",
     "output_type": "stream",
     "text": [
      "0.10554790496826172\n"
     ]
    }
   ],
   "source": [
    "start = time.time()\n",
    "\n",
    "stocks_df = stocks_df.withColumn('price', f.col('price').cast(FloatType())).repartition('date')\n",
    "\n",
    "print(time.time() - start)"
   ]
  },
  {
   "cell_type": "code",
   "execution_count": 22,
   "metadata": {
    "colab": {
     "base_uri": "https://localhost:8080/"
    },
    "id": "Qc9rV2-zHqq7",
    "outputId": "88de6e8d-845f-4256-dc3e-2ec937c14576"
   },
   "outputs": [
    {
     "name": "stdout",
     "output_type": "stream",
     "text": [
      "0.33243608474731445\n"
     ]
    }
   ],
   "source": [
    "from pyspark.sql.types import FloatType, DoubleType\n",
    "\n",
    "start = time.time()\n",
    "\n",
    "big_df = stocks_df.alias('a').join(df.alias('b'), f.col('a.date') == f.col('b.date'), 'inner').repartition('stock_name', 'combo_id')\n",
    "df.unpersist()\n",
    "big_df = big_df.select('a.date', 'stock_name', 'combo_id', 'price', 'avg', 'min', 'max').cache()\n",
    "\n",
    "\n",
    "print(time.time() - start)"
   ]
  },
  {
   "cell_type": "code",
   "execution_count": 23,
   "metadata": {
    "colab": {
     "base_uri": "https://localhost:8080/"
    },
    "id": "bnKXhAlYOs6w",
    "outputId": "c2c09c6a-e748-4334-d7b5-386c2135f0e9"
   },
   "outputs": [
    {
     "data": {
      "text/plain": [
       "[StructField(date,StringType,true),\n",
       " StructField(stock_name,StringType,true),\n",
       " StructField(combo_id,StringType,true),\n",
       " StructField(price,FloatType,true),\n",
       " StructField(avg,FloatType,true),\n",
       " StructField(min,FloatType,true),\n",
       " StructField(max,FloatType,true)]"
      ]
     },
     "execution_count": 23,
     "metadata": {},
     "output_type": "execute_result"
    }
   ],
   "source": [
    "list(big_df.schema)"
   ]
  },
  {
   "cell_type": "code",
   "execution_count": 24,
   "metadata": {
    "colab": {
     "base_uri": "https://localhost:8080/"
    },
    "id": "aQelto60K79s",
    "outputId": "3a9e66f9-3546-4cae-bee1-ebedeef3155a"
   },
   "outputs": [
    {
     "data": {
      "text/plain": [
       "['date', 'stock_name', 'combo_id', 'price', 'avg', 'min', 'max']"
      ]
     },
     "execution_count": 24,
     "metadata": {},
     "output_type": "execute_result"
    }
   ],
   "source": [
    "big_df.columns"
   ]
  },
  {
   "cell_type": "code",
   "execution_count": 25,
   "metadata": {
    "colab": {
     "base_uri": "https://localhost:8080/"
    },
    "id": "MsLGUSk0TSdr",
    "outputId": "be7f1572-15fd-491d-fb16-ae37c07736db"
   },
   "outputs": [
    {
     "name": "stderr",
     "output_type": "stream",
     "text": [
      "                                                                                \r"
     ]
    },
    {
     "data": {
      "text/plain": [
       "3800000"
      ]
     },
     "execution_count": 25,
     "metadata": {},
     "output_type": "execute_result"
    }
   ],
   "source": [
    "big_df.count()"
   ]
  },
  {
   "cell_type": "markdown",
   "metadata": {
    "id": "hPBYGU3NZTR1"
   },
   "source": [
    "----"
   ]
  },
  {
   "cell_type": "code",
   "execution_count": 26,
   "metadata": {
    "colab": {
     "base_uri": "https://localhost:8080/"
    },
    "id": "ZHe_a5jnZSvA",
    "outputId": "39cd82aa-2223-4365-c13c-d49508eb323c"
   },
   "outputs": [],
   "source": [
    "##big_df.show()"
   ]
  },
  {
   "cell_type": "markdown",
   "metadata": {
    "id": "zDmXwdcK67MS"
   },
   "source": [
    "----"
   ]
  },
  {
   "cell_type": "markdown",
   "metadata": {
    "id": "8uK_fz0_fOnw"
   },
   "source": [
    "#### This code cell is redundant \n",
    "\n",
    "from pyspark.sql.types import ArrayType, FloatType\n",
    "import functools\n",
    "def fudf(val):\n",
    "    return functools.reduce(lambda x, y:x+y, val)\n",
    "\n",
    "flattenUdf = f.udf(fudf, ArrayType(FloatType()))"
   ]
  },
  {
   "cell_type": "markdown",
   "metadata": {
    "id": "3337n7XD66Nn"
   },
   "source": [
    "-----"
   ]
  },
  {
   "cell_type": "code",
   "execution_count": 27,
   "metadata": {},
   "outputs": [],
   "source": [
    "#Cache: 0.281\n",
    "#0.100"
   ]
  },
  {
   "cell_type": "code",
   "execution_count": 28,
   "metadata": {
    "colab": {
     "base_uri": "https://localhost:8080/"
    },
    "id": "DWRwb_Ecb9D1",
    "outputId": "674d4f2a-3d65-4ce1-f422-c999bb6d3465"
   },
   "outputs": [
    {
     "name": "stdout",
     "output_type": "stream",
     "text": [
      "0.19008922576904297\n"
     ]
    }
   ],
   "source": [
    "start = time.time()\n",
    "\n",
    "bigdf_grouped = big_df.groupBy([\"stock_name\", 'combo_id']).agg(f.collect_list(\"price\").alias('price'),\n",
    "                                                               f.collect_list(\"avg\").alias('avg'),\n",
    "                                                               f.collect_list(\"min\").alias('min'),\n",
    "                                                               f.collect_list(\"max\").alias('max'))\n",
    "                                                          #.select(\"stock_name\",'combo_id',\n",
    "                                                          #        flattenUdf(\"min\").alias(\"min\"),\n",
    "                                                          #        flattenUdf(\"max\").alias(\"max\"),\n",
    "                                                          #        flattenUdf(\"avg\").alias(\"avg\"),\n",
    "                                                          #        flattenUdf(\"price\").alias(\"price\"))\n",
    "big_df.unpersist()\n",
    "\n",
    "print(time.time() - start)"
   ]
  },
  {
   "cell_type": "code",
   "execution_count": 29,
   "metadata": {
    "id": "hLov6vGrd1Dj"
   },
   "outputs": [],
   "source": [
    "import numpy as np\n",
    "\n",
    "def cosine(a, b):\n",
    "  return float(np.dot(np.array(a), np.array(b)) / (np.linalg.norm(np.array(a)) * np.linalg.norm(np.array(b))))"
   ]
  },
  {
   "cell_type": "code",
   "execution_count": 30,
   "metadata": {
    "id": "vSBkHdBSd1OF"
   },
   "outputs": [],
   "source": [
    "cosine_udf = f.udf(cosine, FloatType())"
   ]
  },
  {
   "cell_type": "markdown",
   "metadata": {
    "id": "nvOlZf5oebVz"
   },
   "source": [
    "----"
   ]
  },
  {
   "cell_type": "code",
   "execution_count": 31,
   "metadata": {},
   "outputs": [],
   "source": [
    "#Cache: 0.246"
   ]
  },
  {
   "cell_type": "code",
   "execution_count": 32,
   "metadata": {
    "colab": {
     "base_uri": "https://localhost:8080/"
    },
    "id": "ssgyOsvdea5F",
    "outputId": "22cc8895-f864-4028-9ca2-20a8b7ef22c7"
   },
   "outputs": [
    {
     "name": "stdout",
     "output_type": "stream",
     "text": [
      "0.24666500091552734\n"
     ]
    }
   ],
   "source": [
    "start = time.time()\n",
    "\n",
    "#bigdf_grouped.cache()\n",
    "\n",
    "df_final = bigdf_grouped.select('stock_name', 'combo_id', cosine_udf('price', 'max').alias('price_max_cosine'),\n",
    "                                                          cosine_udf('price', 'min').alias('price_min_cosine'),\n",
    "                                                          cosine_udf('price', 'avg').alias('price_avg_cosine')).cache()\n",
    "#bigdf_grouped.unpersist()\n",
    "\n",
    "print(time.time() - start)"
   ]
  },
  {
   "cell_type": "code",
   "execution_count": 33,
   "metadata": {},
   "outputs": [],
   "source": [
    "#No cache: 365.07\n",
    "#Cache: 24.694"
   ]
  },
  {
   "cell_type": "code",
   "execution_count": 34,
   "metadata": {
    "colab": {
     "base_uri": "https://localhost:8080/"
    },
    "id": "hsb9WJQGea7f",
    "outputId": "d0b3ab1b-581f-453e-d453-60d026a9a5a7"
   },
   "outputs": [
    {
     "name": "stderr",
     "output_type": "stream",
     "text": [
      "                                                                                \r"
     ]
    },
    {
     "name": "stdout",
     "output_type": "stream",
     "text": [
      "+--------------------+--------------------+----------------+----------------+----------------+\n",
      "|          stock_name|            combo_id|price_max_cosine|price_min_cosine|price_avg_cosine|\n",
      "+--------------------+--------------------+----------------+----------------+----------------+\n",
      "|10679.Asien--Aust...|06207099999_08524...|       0.9889081|       0.9046139|      0.96800274|\n",
      "|10679.Asien--Aust...|03066099999_08524...|       0.9891048|       0.8502761|       0.9667747|\n",
      "|10698.Asien--Aust...|06207099999_08524...|      0.98504055|       0.9026194|       0.9648411|\n",
      "|10612.Asien--Aust...|06207099999_08524...|       0.9860405|      0.90060776|       0.9646363|\n",
      "|10679.Asien--Aust...|03862099999_08524...|       0.9890492|       0.8536509|       0.9641612|\n",
      "|1004.Asien--Austr...|06207099999_08524...|      0.97955555|      0.90912265|       0.9641316|\n",
      "|10882.Asien--Aust...|06207099999_08524...|      0.98494434|      0.89949673|      0.96351963|\n",
      "|10698.Asien--Aust...|03066099999_08524...|       0.9851558|       0.8478256|       0.9632366|\n",
      "|1004.Asien--Austr...|03066099999_08524...|       0.9797471|       0.8572473|      0.96274436|\n",
      "|10882.Asien--Aust...|03066099999_08524...|       0.9851203|      0.84618956|       0.9626548|\n",
      "|10612.Asien--Aust...|03066099999_08524...|       0.9862366|       0.8434534|       0.9624867|\n",
      "|10698.Asien--Aust...|03862099999_08524...|       0.9851175|      0.85466576|       0.9619785|\n",
      "|10882.Asien--Aust...|03862099999_08524...|       0.9851358|       0.8532747|      0.96146977|\n",
      "|11006.Asien--Aust...|06207099999_08524...|      0.98211145|      0.89852095|      0.96140003|\n",
      "|1051.Asien--Austr...|06207099999_08524...|       0.9785287|      0.90386534|         0.96138|\n",
      "|10612.Asien--Aust...|03862099999_08524...|      0.98617196|      0.84947574|       0.9607231|\n",
      "|11006.Asien--Aust...|03066099999_08524...|       0.9823006|       0.8460341|       0.9606717|\n",
      "|1051.Asien--Austr...|03066099999_08524...|       0.9786198|      0.85161823|      0.96005476|\n",
      "|1004.Asien--Austr...|03862099999_08524...|      0.97976893|      0.85852194|      0.95993596|\n",
      "|11006.Asien--Aust...|03862099999_08524...|       0.9822169|       0.8528562|      0.95941067|\n",
      "+--------------------+--------------------+----------------+----------------+----------------+\n",
      "only showing top 20 rows\n",
      "\n",
      "21.196376085281372\n"
     ]
    }
   ],
   "source": [
    "start = time.time()\n",
    "\n",
    "df_final.orderBy('price_avg_cosine', ascending=False).show()\n",
    "\n",
    "df_final.unpersist()\n",
    "\n",
    "print(time.time() - start)"
   ]
  },
  {
   "cell_type": "markdown",
   "metadata": {
    "id": "LqBD36tTg2H6"
   },
   "source": [
    "----"
   ]
  },
  {
   "cell_type": "markdown",
   "metadata": {
    "id": "Jpo_1UMKg3XE"
   },
   "source": [
    "EVERYTHING BELOW IS REDUNDANT"
   ]
  },
  {
   "cell_type": "markdown",
   "metadata": {
    "id": "nXaMhKPYd13H"
   },
   "source": [
    "----"
   ]
  },
  {
   "cell_type": "code",
   "execution_count": null,
   "metadata": {
    "id": "0n0WJkHlJemQ"
   },
   "outputs": [],
   "source": [
    "from pyspark.sql.functions import PandasUDFType, pandas_udf"
   ]
  },
  {
   "cell_type": "code",
   "execution_count": null,
   "metadata": {
    "id": "Xs2dNyWDJgSl"
   },
   "outputs": [],
   "source": [
    "import numpy as np\n",
    "\n",
    "# Names of columns \n",
    "a, b = \"price\", \"avg\" #('min', 'max', 'avg')\n",
    "cosine_sim_col = \"cosine_sim\"\n",
    "\n",
    "@pandas_udf(big_df.schema, PandasUDFType.GROUPED_MAP)\n",
    "def cos_sim(df):\n",
    "    df[cosine_sim_col] = float(np.dot(df[a], df[b]) / (np.linalg.norm(df[a]) * np.linalg.norm(df[b])))\n",
    "    return df"
   ]
  },
  {
   "cell_type": "code",
   "execution_count": null,
   "metadata": {
    "colab": {
     "base_uri": "https://localhost:8080/"
    },
    "id": "zbxV0WATJ02o",
    "outputId": "6305b48d-2739-470c-a030-bebfb45d7cd1"
   },
   "outputs": [
    {
     "name": "stderr",
     "output_type": "stream",
     "text": [
      "/usr/local/lib/python3.7/dist-packages/pyspark/sql/pandas/group_ops.py:84: UserWarning: It is preferred to use 'applyInPandas' over this API. This API will be deprecated in the future releases. See SPARK-28264 for more details.\n",
      "  \"more details.\", UserWarning)\n"
     ]
    }
   ],
   "source": [
    "df_final = big_df.groupby([\"stock_name\", \"combo_id\"]).apply(cos_sim)"
   ]
  },
  {
   "cell_type": "code",
   "execution_count": null,
   "metadata": {
    "colab": {
     "base_uri": "https://localhost:8080/"
    },
    "id": "QLnksqe7KCz0",
    "outputId": "cbe4bb72-5ede-4cbf-8843-43f5238c72f0"
   },
   "outputs": [
    {
     "data": {
      "text/plain": [
       "3800000"
      ]
     },
     "execution_count": 117,
     "metadata": {},
     "output_type": "execute_result"
    }
   ],
   "source": [
    "df_final.count()"
   ]
  },
  {
   "cell_type": "code",
   "execution_count": null,
   "metadata": {
    "id": "azj-z5VxKzuQ"
   },
   "outputs": [],
   "source": [
    "df_final.write.mode('overwrite').csv('/content/drive/MyDrive/BigDataManagement/final data/cosines.csv')"
   ]
  },
  {
   "cell_type": "code",
   "execution_count": null,
   "metadata": {
    "colab": {
     "base_uri": "https://localhost:8080/"
    },
    "id": "P7r3XCoWLOLs",
    "outputId": "03b25488-3de0-4db2-dac9-c68bade5520d"
   },
   "outputs": [
    {
     "name": "stdout",
     "output_type": "stream",
     "text": [
      "+--------------------+--------------------+------------------+\n",
      "|          stock_name|            combo_id|            cossim|\n",
      "+--------------------+--------------------+------------------+\n",
      "|10679.Asien--Aust...|06207099999_08524...|0.9680027365684509|\n",
      "|10679.Asien--Aust...|03066099999_08524...|0.9667748808860779|\n",
      "|10698.Asien--Aust...|06207099999_08524...|0.9648412466049194|\n",
      "|10612.Asien--Aust...|06207099999_08524...| 0.964636504650116|\n",
      "|10679.Asien--Aust...|03862099999_08524...|0.9641613364219666|\n",
      "|1004.Asien--Austr...|06207099999_08524...|0.9641316533088684|\n",
      "|10882.Asien--Aust...|06207099999_08524...|0.9635195732116699|\n",
      "|10698.Asien--Aust...|03066099999_08524...|0.9632366299629211|\n",
      "|1004.Asien--Austr...|03066099999_08524...|0.9627444744110107|\n",
      "|10882.Asien--Aust...|03066099999_08524...|0.9626548290252686|\n",
      "|10612.Asien--Aust...|03066099999_08524...|0.9624868631362915|\n",
      "|10698.Asien--Aust...|03862099999_08524...| 0.961978554725647|\n",
      "|10882.Asien--Aust...|03862099999_08524...|0.9614697694778442|\n",
      "|11006.Asien--Aust...|06207099999_08524...|0.9613999724388123|\n",
      "|1051.Asien--Austr...|06207099999_08524...|0.9613802433013916|\n",
      "|10612.Asien--Aust...|03862099999_08524...|0.9607232213020325|\n",
      "|11006.Asien--Aust...|03066099999_08524...|0.9606717228889465|\n",
      "|1051.Asien--Austr...|03066099999_08524...|0.9600548148155212|\n",
      "|1004.Asien--Austr...|03862099999_08524...|0.9599359631538391|\n",
      "|11006.Asien--Aust...|03862099999_08524...|0.9594107270240784|\n",
      "+--------------------+--------------------+------------------+\n",
      "only showing top 20 rows\n",
      "\n"
     ]
    }
   ],
   "source": [
    "df_final.groupBy([\"stock_name\", \"combo_id\"]).agg(f.avg(\"cosine_sim\").alias(\"cossim\")).orderBy('cossim', ascending=False).show()"
   ]
  },
  {
   "cell_type": "code",
   "execution_count": null,
   "metadata": {
    "colab": {
     "base_uri": "https://localhost:8080/"
    },
    "id": "tXFrKfhpSKcn",
    "outputId": "a8db10cc-521d-4e1c-ecf2-11852cad87e0"
   },
   "outputs": [
    {
     "data": {
      "text/plain": [
       "3800"
      ]
     },
     "execution_count": 130,
     "metadata": {},
     "output_type": "execute_result"
    }
   ],
   "source": [
    "df_final.groupBy([\"stock_name\", \"combo_id\"]).agg(f.avg(\"cosine_sim\").alias(\"cossim\")).orderBy('cossim', ascending=False).count()"
   ]
  },
  {
   "cell_type": "code",
   "execution_count": null,
   "metadata": {
    "id": "paiOau0PVT6a"
   },
   "outputs": [],
   "source": []
  }
 ],
 "metadata": {
  "colab": {
   "collapsed_sections": [],
   "name": "Part2_Big_data_optimized.ipynb",
   "provenance": []
  },
  "kernelspec": {
   "display_name": "Python 3 (ipykernel)",
   "language": "python",
   "name": "python3"
  },
  "language_info": {
   "codemirror_mode": {
    "name": "ipython",
    "version": 3
   },
   "file_extension": ".py",
   "mimetype": "text/x-python",
   "name": "python",
   "nbconvert_exporter": "python",
   "pygments_lexer": "ipython3",
   "version": "3.7.12"
  }
 },
 "nbformat": 4,
 "nbformat_minor": 1
}
