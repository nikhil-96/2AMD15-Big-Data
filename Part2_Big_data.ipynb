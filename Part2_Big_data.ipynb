{
  "nbformat": 4,
  "nbformat_minor": 0,
  "metadata": {
    "colab": {
      "name": "Part2_Big_data.ipynb",
      "provenance": [],
      "collapsed_sections": []
    },
    "kernelspec": {
      "name": "python3",
      "display_name": "Python 3"
    },
    "language_info": {
      "name": "python"
    }
  },
  "cells": [
    {
      "cell_type": "code",
      "execution_count": 1,
      "metadata": {
        "colab": {
          "base_uri": "https://localhost:8080/"
        },
        "id": "DsKiOE8BgmR6",
        "outputId": "5ef1cffd-92c5-4c29-9bb6-6db67abffc79"
      },
      "outputs": [
        {
          "output_type": "stream",
          "name": "stdout",
          "text": [
            "Collecting pyspark\n",
            "  Downloading pyspark-3.2.1.tar.gz (281.4 MB)\n",
            "\u001b[K     |████████████████████████████████| 281.4 MB 34 kB/s \n",
            "\u001b[?25hCollecting findspark\n",
            "  Downloading findspark-2.0.1-py2.py3-none-any.whl (4.4 kB)\n",
            "Collecting py4j==0.10.9.3\n",
            "  Downloading py4j-0.10.9.3-py2.py3-none-any.whl (198 kB)\n",
            "\u001b[K     |████████████████████████████████| 198 kB 11.3 MB/s \n",
            "\u001b[?25hBuilding wheels for collected packages: pyspark\n",
            "  Building wheel for pyspark (setup.py) ... \u001b[?25l\u001b[?25hdone\n",
            "  Created wheel for pyspark: filename=pyspark-3.2.1-py2.py3-none-any.whl size=281853642 sha256=66bf1d5e177361b69235f589865cf8bea63ab155b24ebaf68fb0759d24fa30e9\n",
            "  Stored in directory: /root/.cache/pip/wheels/9f/f5/07/7cd8017084dce4e93e84e92efd1e1d5334db05f2e83bcef74f\n",
            "Successfully built pyspark\n",
            "Installing collected packages: py4j, pyspark, findspark\n",
            "Successfully installed findspark-2.0.1 py4j-0.10.9.3 pyspark-3.2.1\n"
          ]
        }
      ],
      "source": [
        "!pip install pyspark findspark\n"
      ]
    },
    {
      "cell_type": "code",
      "source": [
        "import findspark\n",
        "findspark.init()\n",
        "import pyspark\n",
        "\n",
        "from pyspark import SparkContext\n",
        "from pyspark.conf import SparkConf\n",
        "from pyspark.sql import SparkSession\n",
        "\n",
        "\n",
        "sc = SparkContext.getOrCreate()\n",
        "ss = SparkSession(sc).builder.config(\"spark.driver.memory\", \"6g\").getOrCreate()\n",
        "\n",
        "import pyspark.sql.functions as f\n",
        "#import pyspark"
      ],
      "metadata": {
        "id": "-USQNv0Whyyi"
      },
      "execution_count": 2,
      "outputs": []
    },
    {
      "cell_type": "code",
      "source": [
        "from google.colab import drive\n",
        "drive.mount('/content/drive')"
      ],
      "metadata": {
        "colab": {
          "base_uri": "https://localhost:8080/"
        },
        "id": "oLztNEvO7CXL",
        "outputId": "bf0b7eb4-b2f9-469a-ece9-16b18d009103"
      },
      "execution_count": 3,
      "outputs": [
        {
          "output_type": "stream",
          "name": "stdout",
          "text": [
            "Mounted at /content/drive\n"
          ]
        }
      ]
    },
    {
      "cell_type": "code",
      "source": [
        "weather_df = ss.read.option('header', True).csv(\"/content/drive/MyDrive/BigDataManagement/final data/weather-ta2.csv\").limit(20000)\n",
        "weather_df.show()"
      ],
      "metadata": {
        "colab": {
          "base_uri": "https://localhost:8080/"
        },
        "id": "xsP1VzMJh0oJ",
        "outputId": "d0d4d301-5872-4319-b8e5-478ac53b8629"
      },
      "execution_count": 4,
      "outputs": [
        {
          "output_type": "stream",
          "name": "stdout",
          "text": [
            "+---+-----------+----------+-------+-------+\n",
            "|_c0| station_id|      date|tmp_val|dew_val|\n",
            "+---+-----------+----------+-------+-------+\n",
            "|  0|01016099999|2016-01-01|      4|     -7|\n",
            "|  1|01016099999|2016-01-02|      6|     -1|\n",
            "|  2|01016099999|2016-01-03|      0|    -21|\n",
            "|  3|01016099999|2016-01-04|      0|     -9|\n",
            "|  4|01016099999|2016-01-05|    -53|    -61|\n",
            "|  5|01016099999|2016-01-06|   -104|   -112|\n",
            "|  6|01016099999|2016-01-07|    -62|    -81|\n",
            "|  7|01016099999|2016-01-08|   -102|   -151|\n",
            "|  8|01016099999|2016-01-09|    -72|    -88|\n",
            "|  9|01016099999|2016-01-10|    -69|    -97|\n",
            "| 10|01016099999|2016-01-11|    -93|   -122|\n",
            "| 11|01016099999|2016-01-12|   -126|   -139|\n",
            "| 12|01016099999|2016-01-13|    -86|   -107|\n",
            "| 13|01016099999|2016-01-14|    -71|    -96|\n",
            "| 14|01016099999|2016-01-15|    -61|    -78|\n",
            "| 15|01016099999|2016-01-16|    -62|    -79|\n",
            "| 16|01016099999|2016-01-17|    -27|    -32|\n",
            "| 17|01016099999|2016-01-18|    -30|    -39|\n",
            "| 18|01016099999|2016-01-19|    -42|    -54|\n",
            "| 19|01016099999|2016-01-20|    -70|    -89|\n",
            "+---+-----------+----------+-------+-------+\n",
            "only showing top 20 rows\n",
            "\n"
          ]
        }
      ]
    },
    {
      "cell_type": "code",
      "source": [
        "stocks_df=ss.read.option('header', True).csv('/content/drive/MyDrive/BigDataManagement/final data/stocks-ta2.csv')\n",
        "stocks_df.show()"
      ],
      "metadata": {
        "colab": {
          "base_uri": "https://localhost:8080/"
        },
        "id": "ou5Pbdith80-",
        "outputId": "9e0273bd-8a99-488a-f8f0-9e8a127dd9ed"
      },
      "execution_count": 5,
      "outputs": [
        {
          "output_type": "stream",
          "name": "stdout",
          "text": [
            "+---+--------------------+----------+-----+\n",
            "|_c0|          stock_name|      date|price|\n",
            "+---+--------------------+----------+-----+\n",
            "|  0|1004.Asien--Austr...|2016-01-01| 57.5|\n",
            "|  1|1004.Asien--Austr...|2016-01-02| 57.5|\n",
            "|  2|1004.Asien--Austr...|2016-01-03| 57.5|\n",
            "|  3|1004.Asien--Austr...|2016-01-04| 57.8|\n",
            "|  4|1004.Asien--Austr...|2016-01-05|57.17|\n",
            "|  5|1004.Asien--Austr...|2016-01-06|57.65|\n",
            "|  6|1004.Asien--Austr...|2016-01-07| 58.4|\n",
            "|  7|1004.Asien--Austr...|2016-01-08|56.44|\n",
            "|  8|1004.Asien--Austr...|2016-01-09|56.44|\n",
            "|  9|1004.Asien--Austr...|2016-01-10|56.44|\n",
            "| 10|1004.Asien--Austr...|2016-01-11| 56.0|\n",
            "| 11|1004.Asien--Austr...|2016-01-12|56.72|\n",
            "| 12|1004.Asien--Austr...|2016-01-13|56.11|\n",
            "| 13|1004.Asien--Austr...|2016-01-14|55.08|\n",
            "| 14|1004.Asien--Austr...|2016-01-15|56.97|\n",
            "| 15|1004.Asien--Austr...|2016-01-16|56.97|\n",
            "| 16|1004.Asien--Austr...|2016-01-17|56.97|\n",
            "| 17|1004.Asien--Austr...|2016-01-18|54.69|\n",
            "| 18|1004.Asien--Austr...|2016-01-19|56.33|\n",
            "| 19|1004.Asien--Austr...|2016-01-20|56.89|\n",
            "+---+--------------------+----------+-----+\n",
            "only showing top 20 rows\n",
            "\n"
          ]
        }
      ]
    },
    {
      "cell_type": "code",
      "source": [
        "weather_df.registerTempTable(\"df\")\n",
        " \n",
        "mylist = ss.sql(\"\"\"\n",
        "SELECT DISTINCT  u1.station_id,\n",
        "    u2.station_id\n",
        "FROM df as u1 JOIN df as u2 ON u1.station_id> u2.station_id;\n",
        "\"\"\").collect()\n",
        " \n"
      ],
      "metadata": {
        "colab": {
          "base_uri": "https://localhost:8080/"
        },
        "id": "hPek_GPxiJgn",
        "outputId": "d9f04a94-522a-47e7-85e7-0ed4264e322d"
      },
      "execution_count": 6,
      "outputs": [
        {
          "output_type": "stream",
          "name": "stderr",
          "text": [
            "/usr/local/lib/python3.7/dist-packages/pyspark/sql/dataframe.py:140: FutureWarning: Deprecated in 2.0, use createOrReplaceTempView instead.\n",
            "  FutureWarning\n"
          ]
        }
      ]
    },
    {
      "cell_type": "code",
      "source": [
        "weather_df.columns"
      ],
      "metadata": {
        "colab": {
          "base_uri": "https://localhost:8080/"
        },
        "id": "DoXaxXEsA3q1",
        "outputId": "80e4e8c9-4846-4598-efb1-3dc6d2b208ee"
      },
      "execution_count": 7,
      "outputs": [
        {
          "output_type": "execute_result",
          "data": {
            "text/plain": [
              "['_c0', 'station_id', 'date', 'tmp_val', 'dew_val']"
            ]
          },
          "metadata": {},
          "execution_count": 7
        }
      ]
    },
    {
      "cell_type": "code",
      "source": [
        "weather_df = weather_df.select('station_id', 'date', 'tmp_val')"
      ],
      "metadata": {
        "id": "z4v-mfkTCHkT"
      },
      "execution_count": 8,
      "outputs": []
    },
    {
      "cell_type": "code",
      "source": [
        "i, j = mylist[0]"
      ],
      "metadata": {
        "id": "N4csrMgbaivZ"
      },
      "execution_count": 12,
      "outputs": []
    },
    {
      "cell_type": "markdown",
      "source": [
        ""
      ],
      "metadata": {
        "id": "43ArQWwzCpV2"
      }
    },
    {
      "cell_type": "code",
      "source": [
        "from pyspark.sql.functions import col\n",
        "from pyspark.sql.types import StructType\n",
        "\n",
        "schema = weather_df.filter(weather_df.station_id == i).alias('a').join(weather_df.filter(weather_df.station_id == j)\\\n",
        "                                         .withColumnRenamed('station_id', 'station_id_2')\\\n",
        "                                         .withColumnRenamed('date', 'date_2')\\\n",
        "                                         .withColumnRenamed('tmp_val', 'tmp_val_2').alias('b'),\n",
        "                                            f.col(\"a.date\") == f.col(\"b.date_2\"), 'inner').schema\n",
        "\n",
        "df = ss.createDataFrame([], schema)\n",
        "\n",
        "for a, b in mylist:\n",
        "    df = df.union(weather_df.filter(weather_df.station_id == a).alias('a').join(weather_df.filter(weather_df.station_id == b)\\\n",
        "                                         .withColumnRenamed('station_id', 'station_id_2')\\\n",
        "                                         .withColumnRenamed('date', 'date_2')\\\n",
        "                                         .withColumnRenamed('tmp_val', 'tmp_val_2').alias('b'),\n",
        "                                            f.col(\"a.date\") == f.col(\"b.date_2\"), 'inner'))"
      ],
      "metadata": {
        "id": "l5ILTQ1P7vTz"
      },
      "execution_count": 14,
      "outputs": []
    },
    {
      "cell_type": "code",
      "source": [
        "df.count()"
      ],
      "metadata": {
        "colab": {
          "base_uri": "https://localhost:8080/"
        },
        "id": "PdMFW4e5_J6q",
        "outputId": "65de3222-e6a3-4f59-eb3c-2f9b31a68e24"
      },
      "execution_count": 15,
      "outputs": [
        {
          "output_type": "execute_result",
          "data": {
            "text/plain": [
              "190000"
            ]
          },
          "metadata": {},
          "execution_count": 15
        }
      ]
    },
    {
      "cell_type": "code",
      "source": [
        "df.show()"
      ],
      "metadata": {
        "id": "9BMT2DFUidRk",
        "colab": {
          "base_uri": "https://localhost:8080/"
        },
        "outputId": "a2af5277-f404-4126-b130-e03488853ae8"
      },
      "execution_count": 16,
      "outputs": [
        {
          "output_type": "stream",
          "name": "stdout",
          "text": [
            "+-----------+----------+-------+------------+----------+---------+\n",
            "| station_id|      date|tmp_val|station_id_2|    date_2|tmp_val_2|\n",
            "+-----------+----------+-------+------------+----------+---------+\n",
            "|02520099999|2016-01-01|      6| 01016099999|2016-01-01|        4|\n",
            "|02520099999|2016-01-02|      4| 01016099999|2016-01-02|        6|\n",
            "|02520099999|2016-01-03|    -38| 01016099999|2016-01-03|        0|\n",
            "|02520099999|2016-01-04|    -58| 01016099999|2016-01-04|        0|\n",
            "|02520099999|2016-01-05|    -65| 01016099999|2016-01-05|      -53|\n",
            "|02520099999|2016-01-06|    -91| 01016099999|2016-01-06|     -104|\n",
            "|02520099999|2016-01-07|   -130| 01016099999|2016-01-07|      -62|\n",
            "|02520099999|2016-01-08|    -47| 01016099999|2016-01-08|     -102|\n",
            "|02520099999|2016-01-09|    -49| 01016099999|2016-01-09|      -72|\n",
            "|02520099999|2016-01-10|    -25| 01016099999|2016-01-10|      -69|\n",
            "|02520099999|2016-01-11|     12| 01016099999|2016-01-11|      -93|\n",
            "|02520099999|2016-01-12|      5| 01016099999|2016-01-12|     -126|\n",
            "|02520099999|2016-01-13|    -27| 01016099999|2016-01-13|      -86|\n",
            "|02520099999|2016-01-14|    -73| 01016099999|2016-01-14|      -71|\n",
            "|02520099999|2016-01-15|   -142| 01016099999|2016-01-15|      -61|\n",
            "|02520099999|2016-01-16|   -105| 01016099999|2016-01-16|      -62|\n",
            "|02520099999|2016-01-17|   -156| 01016099999|2016-01-17|      -27|\n",
            "|02520099999|2016-01-18|    -99| 01016099999|2016-01-18|      -30|\n",
            "|02520099999|2016-01-19|    -61| 01016099999|2016-01-19|      -42|\n",
            "|02520099999|2016-01-20|    -57| 01016099999|2016-01-20|      -70|\n",
            "+-----------+----------+-------+------------+----------+---------+\n",
            "only showing top 20 rows\n",
            "\n"
          ]
        }
      ]
    },
    {
      "cell_type": "code",
      "source": [
        "df = df.select('station_id', 'station_id_2', 'date', 'tmp_val', 'tmp_val_2')"
      ],
      "metadata": {
        "id": "kvP69MFHDPg5"
      },
      "execution_count": 17,
      "outputs": []
    },
    {
      "cell_type": "code",
      "source": [
        "from pyspark.sql.types import StringType, FloatType\n",
        "\n",
        "def max(a,b):\n",
        "  if float(a) > float(b):\n",
        "    return float(a)\n",
        "  else:\n",
        "    return float(b)\n",
        "\n",
        "def min(a,b):\n",
        "  if float(a) > float(b):\n",
        "    return float(b)\n",
        "  else:\n",
        "    return float(a)\n",
        "\n",
        "def avg(a,b):\n",
        "  return (float(a) + float(b))/2\n",
        "\n",
        "max_udf = f.udf(max, FloatType())\n",
        "min_udf = f.udf(min, FloatType())\n",
        "avg_udf = f.udf(avg, FloatType())"
      ],
      "metadata": {
        "id": "AX_IX5vKDsoP"
      },
      "execution_count": 18,
      "outputs": []
    },
    {
      "cell_type": "code",
      "source": [
        "df = df.withColumn('min', min_udf('tmp_val', 'tmp_val_2'))\\\n",
        "  .withColumn('avg', avg_udf('tmp_val', 'tmp_val_2'))\\\n",
        "  .withColumn('max', max_udf('tmp_val', 'tmp_val_2'))"
      ],
      "metadata": {
        "id": "BAUaLKb29vc6"
      },
      "execution_count": 19,
      "outputs": []
    },
    {
      "cell_type": "code",
      "source": [
        "df.show()"
      ],
      "metadata": {
        "colab": {
          "base_uri": "https://localhost:8080/"
        },
        "id": "H-aMrbC4DbKx",
        "outputId": "6dc3786f-ee4e-44bd-e523-35cd3a9c176b"
      },
      "execution_count": 20,
      "outputs": [
        {
          "output_type": "stream",
          "name": "stdout",
          "text": [
            "+-----------+------------+----------+-------+---------+------+------+-----+\n",
            "| station_id|station_id_2|      date|tmp_val|tmp_val_2|   min|   avg|  max|\n",
            "+-----------+------------+----------+-------+---------+------+------+-----+\n",
            "|02520099999| 01016099999|2016-01-01|      6|        4|   4.0|   5.0|  6.0|\n",
            "|02520099999| 01016099999|2016-01-02|      4|        6|   4.0|   5.0|  6.0|\n",
            "|02520099999| 01016099999|2016-01-03|    -38|        0| -38.0| -19.0|  0.0|\n",
            "|02520099999| 01016099999|2016-01-04|    -58|        0| -58.0| -29.0|  0.0|\n",
            "|02520099999| 01016099999|2016-01-05|    -65|      -53| -65.0| -59.0|-53.0|\n",
            "|02520099999| 01016099999|2016-01-06|    -91|     -104|-104.0| -97.5|-91.0|\n",
            "|02520099999| 01016099999|2016-01-07|   -130|      -62|-130.0| -96.0|-62.0|\n",
            "|02520099999| 01016099999|2016-01-08|    -47|     -102|-102.0| -74.5|-47.0|\n",
            "|02520099999| 01016099999|2016-01-09|    -49|      -72| -72.0| -60.5|-49.0|\n",
            "|02520099999| 01016099999|2016-01-10|    -25|      -69| -69.0| -47.0|-25.0|\n",
            "|02520099999| 01016099999|2016-01-11|     12|      -93| -93.0| -40.5| 12.0|\n",
            "|02520099999| 01016099999|2016-01-12|      5|     -126|-126.0| -60.5|  5.0|\n",
            "|02520099999| 01016099999|2016-01-13|    -27|      -86| -86.0| -56.5|-27.0|\n",
            "|02520099999| 01016099999|2016-01-14|    -73|      -71| -73.0| -72.0|-71.0|\n",
            "|02520099999| 01016099999|2016-01-15|   -142|      -61|-142.0|-101.5|-61.0|\n",
            "|02520099999| 01016099999|2016-01-16|   -105|      -62|-105.0| -83.5|-62.0|\n",
            "|02520099999| 01016099999|2016-01-17|   -156|      -27|-156.0| -91.5|-27.0|\n",
            "|02520099999| 01016099999|2016-01-18|    -99|      -30| -99.0| -64.5|-30.0|\n",
            "|02520099999| 01016099999|2016-01-19|    -61|      -42| -61.0| -51.5|-42.0|\n",
            "|02520099999| 01016099999|2016-01-20|    -57|      -70| -70.0| -63.5|-57.0|\n",
            "+-----------+------------+----------+-------+---------+------+------+-----+\n",
            "only showing top 20 rows\n",
            "\n"
          ]
        }
      ]
    },
    {
      "cell_type": "code",
      "source": [
        "def unqiue_combination(a, b):\n",
        "  col = [a, b]\n",
        "  col.sort()\n",
        "  return '_'.join(col)\n",
        "\n",
        "my_udf = f.udf(unqiue_combination, StringType())"
      ],
      "metadata": {
        "id": "VlsIXWWmFo89"
      },
      "execution_count": 21,
      "outputs": []
    },
    {
      "cell_type": "code",
      "source": [
        "df = df.withColumn('combo_id', my_udf('station_id', 'station_id_2')).select('combo_id', 'date', 'min', 'avg', 'max')"
      ],
      "metadata": {
        "id": "RvpgOSWkEcA-"
      },
      "execution_count": 22,
      "outputs": []
    },
    {
      "cell_type": "code",
      "source": [
        "df.show()"
      ],
      "metadata": {
        "colab": {
          "base_uri": "https://localhost:8080/"
        },
        "id": "f8219gfSGB2Q",
        "outputId": "34301311-5467-4791-c686-798152fb9e2c"
      },
      "execution_count": 23,
      "outputs": [
        {
          "output_type": "stream",
          "name": "stdout",
          "text": [
            "+--------------------+----------+------+------+-----+\n",
            "|            combo_id|      date|   min|   avg|  max|\n",
            "+--------------------+----------+------+------+-----+\n",
            "|01016099999_02520...|2016-01-01|   4.0|   5.0|  6.0|\n",
            "|01016099999_02520...|2016-01-02|   4.0|   5.0|  6.0|\n",
            "|01016099999_02520...|2016-01-03| -38.0| -19.0|  0.0|\n",
            "|01016099999_02520...|2016-01-04| -58.0| -29.0|  0.0|\n",
            "|01016099999_02520...|2016-01-05| -65.0| -59.0|-53.0|\n",
            "|01016099999_02520...|2016-01-06|-104.0| -97.5|-91.0|\n",
            "|01016099999_02520...|2016-01-07|-130.0| -96.0|-62.0|\n",
            "|01016099999_02520...|2016-01-08|-102.0| -74.5|-47.0|\n",
            "|01016099999_02520...|2016-01-09| -72.0| -60.5|-49.0|\n",
            "|01016099999_02520...|2016-01-10| -69.0| -47.0|-25.0|\n",
            "|01016099999_02520...|2016-01-11| -93.0| -40.5| 12.0|\n",
            "|01016099999_02520...|2016-01-12|-126.0| -60.5|  5.0|\n",
            "|01016099999_02520...|2016-01-13| -86.0| -56.5|-27.0|\n",
            "|01016099999_02520...|2016-01-14| -73.0| -72.0|-71.0|\n",
            "|01016099999_02520...|2016-01-15|-142.0|-101.5|-61.0|\n",
            "|01016099999_02520...|2016-01-16|-105.0| -83.5|-62.0|\n",
            "|01016099999_02520...|2016-01-17|-156.0| -91.5|-27.0|\n",
            "|01016099999_02520...|2016-01-18| -99.0| -64.5|-30.0|\n",
            "|01016099999_02520...|2016-01-19| -61.0| -51.5|-42.0|\n",
            "|01016099999_02520...|2016-01-20| -70.0| -63.5|-57.0|\n",
            "+--------------------+----------+------+------+-----+\n",
            "only showing top 20 rows\n",
            "\n"
          ]
        }
      ]
    },
    {
      "cell_type": "code",
      "source": [
        ""
      ],
      "metadata": {
        "id": "x2JA4HeiGDq6"
      },
      "execution_count": null,
      "outputs": []
    },
    {
      "cell_type": "markdown",
      "source": [
        "------"
      ],
      "metadata": {
        "id": "6Bf4lTZcHlnt"
      }
    },
    {
      "cell_type": "code",
      "source": [
        "stocks_df=ss.read.option('header', True).csv('/content/drive/MyDrive/BigDataManagement/final data/stocks-ta2.csv').limit(20000)\n",
        "stocks_df.show()"
      ],
      "metadata": {
        "colab": {
          "base_uri": "https://localhost:8080/"
        },
        "id": "igXhayLNHmUr",
        "outputId": "70568ea3-3aa3-4c0d-98e4-7283b9b4a59e"
      },
      "execution_count": 24,
      "outputs": [
        {
          "output_type": "stream",
          "name": "stdout",
          "text": [
            "+---+--------------------+----------+-----+\n",
            "|_c0|          stock_name|      date|price|\n",
            "+---+--------------------+----------+-----+\n",
            "|  0|1004.Asien--Austr...|2016-01-01| 57.5|\n",
            "|  1|1004.Asien--Austr...|2016-01-02| 57.5|\n",
            "|  2|1004.Asien--Austr...|2016-01-03| 57.5|\n",
            "|  3|1004.Asien--Austr...|2016-01-04| 57.8|\n",
            "|  4|1004.Asien--Austr...|2016-01-05|57.17|\n",
            "|  5|1004.Asien--Austr...|2016-01-06|57.65|\n",
            "|  6|1004.Asien--Austr...|2016-01-07| 58.4|\n",
            "|  7|1004.Asien--Austr...|2016-01-08|56.44|\n",
            "|  8|1004.Asien--Austr...|2016-01-09|56.44|\n",
            "|  9|1004.Asien--Austr...|2016-01-10|56.44|\n",
            "| 10|1004.Asien--Austr...|2016-01-11| 56.0|\n",
            "| 11|1004.Asien--Austr...|2016-01-12|56.72|\n",
            "| 12|1004.Asien--Austr...|2016-01-13|56.11|\n",
            "| 13|1004.Asien--Austr...|2016-01-14|55.08|\n",
            "| 14|1004.Asien--Austr...|2016-01-15|56.97|\n",
            "| 15|1004.Asien--Austr...|2016-01-16|56.97|\n",
            "| 16|1004.Asien--Austr...|2016-01-17|56.97|\n",
            "| 17|1004.Asien--Austr...|2016-01-18|54.69|\n",
            "| 18|1004.Asien--Austr...|2016-01-19|56.33|\n",
            "| 19|1004.Asien--Austr...|2016-01-20|56.89|\n",
            "+---+--------------------+----------+-----+\n",
            "only showing top 20 rows\n",
            "\n"
          ]
        }
      ]
    },
    {
      "cell_type": "code",
      "source": [
        "stocks_df = stocks_df.withColumn('price', f.col('price').cast(FloatType()))"
      ],
      "metadata": {
        "id": "O8q1EEgXQBRn"
      },
      "execution_count": 25,
      "outputs": []
    },
    {
      "cell_type": "code",
      "source": [
        "from pyspark.sql.types import FloatType, DoubleType\n",
        "\n",
        "big_df = stocks_df.alias('a').join(df.alias('b'), f.col('a.date') == f.col('b.date'), 'inner')\n",
        "#big_df = big_df.withColumn(\"cosine_sim\", f.lit(1.0).cast(\"float\"))\n",
        "big_df = big_df.select('a.date', 'stock_name', 'combo_id', 'price', 'avg', 'min', 'max', 'cosine_sim')"
      ],
      "metadata": {
        "id": "Qc9rV2-zHqq7"
      },
      "execution_count": 26,
      "outputs": []
    },
    {
      "cell_type": "code",
      "source": [
        "list(big_df.schema)"
      ],
      "metadata": {
        "colab": {
          "base_uri": "https://localhost:8080/"
        },
        "id": "bnKXhAlYOs6w",
        "outputId": "30d40b3e-92fa-41eb-8b8a-4ebe9e574f5f"
      },
      "execution_count": 27,
      "outputs": [
        {
          "output_type": "execute_result",
          "data": {
            "text/plain": [
              "[StructField(date,StringType,true),\n",
              " StructField(stock_name,StringType,true),\n",
              " StructField(combo_id,StringType,true),\n",
              " StructField(price,FloatType,true),\n",
              " StructField(avg,FloatType,true),\n",
              " StructField(min,FloatType,true),\n",
              " StructField(max,FloatType,true),\n",
              " StructField(cosine_sim,FloatType,false)]"
            ]
          },
          "metadata": {},
          "execution_count": 27
        }
      ]
    },
    {
      "cell_type": "code",
      "source": [
        "big_df.columns"
      ],
      "metadata": {
        "colab": {
          "base_uri": "https://localhost:8080/"
        },
        "id": "aQelto60K79s",
        "outputId": "3b8ec099-0c06-433b-a85c-07a82cf99634"
      },
      "execution_count": 28,
      "outputs": [
        {
          "output_type": "execute_result",
          "data": {
            "text/plain": [
              "['date', 'stock_name', 'combo_id', 'price', 'avg', 'min', 'max', 'cosine_sim']"
            ]
          },
          "metadata": {},
          "execution_count": 28
        }
      ]
    },
    {
      "cell_type": "code",
      "source": [
        "big_df.count()"
      ],
      "metadata": {
        "colab": {
          "base_uri": "https://localhost:8080/"
        },
        "id": "MsLGUSk0TSdr",
        "outputId": "b8a1bdef-d8f9-4b9a-d5b2-ac4aa53f98dc"
      },
      "execution_count": 29,
      "outputs": [
        {
          "output_type": "execute_result",
          "data": {
            "text/plain": [
              "3800000"
            ]
          },
          "metadata": {},
          "execution_count": 29
        }
      ]
    },
    {
      "cell_type": "markdown",
      "source": [
        "----"
      ],
      "metadata": {
        "id": "hPBYGU3NZTR1"
      }
    },
    {
      "cell_type": "code",
      "source": [
        "##big_df.show()"
      ],
      "metadata": {
        "colab": {
          "base_uri": "https://localhost:8080/"
        },
        "id": "ZHe_a5jnZSvA",
        "outputId": "39cd82aa-2223-4365-c13c-d49508eb323c"
      },
      "execution_count": 31,
      "outputs": [
        {
          "output_type": "stream",
          "name": "stdout",
          "text": [
            "+----------+--------------------+--------------------+------+---+---+---+----------+\n",
            "|      date|          stock_name|            combo_id| price|avg|min|max|cosine_sim|\n",
            "+----------+--------------------+--------------------+------+---+---+---+----------+\n",
            "|2016-01-01|11006.Asien--Aust...|01016099999_02520...| 318.0|5.0|4.0|6.0|       1.0|\n",
            "|2016-01-01|10990.Asien--Aust...|01016099999_02520...| 520.0|5.0|4.0|6.0|       1.0|\n",
            "|2016-01-01|10968.Asien--Aust...|01016099999_02520...| 960.5|5.0|4.0|6.0|       1.0|\n",
            "|2016-01-01|10949.Asien--Aust...|01016099999_02520...|1289.0|5.0|4.0|6.0|       1.0|\n",
            "|2016-01-01|10905.Asien--Aust...|01016099999_02520...|1328.0|5.0|4.0|6.0|       1.0|\n",
            "|2016-01-01|10882.Asien--Aust...|01016099999_02520...|3110.0|5.0|4.0|6.0|       1.0|\n",
            "|2016-01-01|1081.Asien--Austr...|01016099999_02520...| 0.415|5.0|4.0|6.0|       1.0|\n",
            "|2016-01-01|10780.Asien--Aust...|01016099999_02520...|2220.0|5.0|4.0|6.0|       1.0|\n",
            "|2016-01-01|1076.Asien--Austr...|01016099999_02520...|  6.15|5.0|4.0|6.0|       1.0|\n",
            "|2016-01-01|10698.Asien--Aust...|01016099999_02520...| 525.0|5.0|4.0|6.0|       1.0|\n",
            "|2016-01-01|10679.Asien--Aust...|01016099999_02520...|2030.0|5.0|4.0|6.0|       1.0|\n",
            "|2016-01-01|10652.Asien--Aust...|01016099999_02520...|1440.0|5.0|4.0|6.0|       1.0|\n",
            "|2016-01-01|10612.Asien--Aust...|01016099999_02520...|1265.0|5.0|4.0|6.0|       1.0|\n",
            "|2016-01-01|1051.Asien--Austr...|01016099999_02520...|  6.46|5.0|4.0|6.0|       1.0|\n",
            "|2016-01-01|10359.Asien--Aust...|01016099999_02520...|  33.0|5.0|4.0|6.0|       1.0|\n",
            "|2016-01-01|10349.Asien--Aust...|01016099999_02520...| 815.0|5.0|4.0|6.0|       1.0|\n",
            "|2016-01-01|10319.Asien--Aust...|01016099999_02520...|1679.0|5.0|4.0|6.0|       1.0|\n",
            "|2016-01-01|10300.Asien--Aust...|01016099999_02520...| 613.0|5.0|4.0|6.0|       1.0|\n",
            "|2016-01-01|10056.Asien--Aust...|01016099999_02520...| 368.0|5.0|4.0|6.0|       1.0|\n",
            "|2016-01-01|1004.Asien--Austr...|01016099999_02520...|  57.5|5.0|4.0|6.0|       1.0|\n",
            "+----------+--------------------+--------------------+------+---+---+---+----------+\n",
            "only showing top 20 rows\n",
            "\n"
          ]
        }
      ]
    },
    {
      "cell_type": "markdown",
      "source": [
        "### Text below is a redundant code\n",
        "\n",
        "from pyspark.sql.types import ArrayType, FloatType\n",
        "import functools\n",
        "def fudf(val):\n",
        "    return functools.reduce(lambda x, y:x+y, val)\n",
        "\n",
        "flattenUdf = f.udf(fudf, ArrayType(FloatType()))"
      ],
      "metadata": {
        "id": "8uK_fz0_fOnw"
      }
    },
    {
      "cell_type": "code",
      "source": [
        "bigdf_grouped = big_df.groupBy([\"stock_name\", 'combo_id']).agg(f.collect_list(\"price\").alias('price'),\n",
        "                                                               f.collect_list(\"avg\").alias('avg'),\n",
        "                                                               f.collect_list(\"min\").alias('min'),\n",
        "                                                               f.collect_list(\"max\").alias('max'))\n",
        "                                                          #.select(\"stock_name\",'combo_id',\n",
        "                                                          #        flattenUdf(\"min\").alias(\"min\"),\n",
        "                                                          #        flattenUdf(\"max\").alias(\"max\"),\n",
        "                                                          #        flattenUdf(\"avg\").alias(\"avg\"),\n",
        "                                                          #        flattenUdf(\"price\").alias(\"price\"))\n"
      ],
      "metadata": {
        "id": "DWRwb_Ecb9D1"
      },
      "execution_count": 43,
      "outputs": []
    },
    {
      "cell_type": "code",
      "source": [
        "import numpy as np\n",
        "\n",
        "def cosine(a, b):\n",
        "  return float(np.dot(np.array(a), np.array(b)) / (np.linalg.norm(np.array(a)) * np.linalg.norm(np.array(b))))"
      ],
      "metadata": {
        "id": "hLov6vGrd1Dj"
      },
      "execution_count": 44,
      "outputs": []
    },
    {
      "cell_type": "code",
      "source": [
        "cosine_udf = f.udf(cosine, FloatType())"
      ],
      "metadata": {
        "id": "vSBkHdBSd1OF"
      },
      "execution_count": 45,
      "outputs": []
    },
    {
      "cell_type": "markdown",
      "source": [
        "----"
      ],
      "metadata": {
        "id": "nvOlZf5oebVz"
      }
    },
    {
      "cell_type": "code",
      "source": [
        "df_final = bigdf_grouped.select('stock_name', 'combo_id', cosine_udf('price', 'max').alias('price_max_cosine'),\n",
        "                                                          cosine_udf('price', 'min').alias('price_min_cosine'),\n",
        "                                                          cosine_udf('price', 'avg').alias('price_avg_cosine'))"
      ],
      "metadata": {
        "id": "ssgyOsvdea5F"
      },
      "execution_count": 46,
      "outputs": []
    },
    {
      "cell_type": "code",
      "source": [
        "df_final.orderBy('price_avg_cosine', ascending=False).show()"
      ],
      "metadata": {
        "colab": {
          "base_uri": "https://localhost:8080/"
        },
        "id": "hsb9WJQGea7f",
        "outputId": "1e53da5b-ac96-4887-8c39-1a33f611a69d"
      },
      "execution_count": 48,
      "outputs": [
        {
          "output_type": "stream",
          "name": "stdout",
          "text": [
            "+--------------------+--------------------+----------------+----------------+----------------+\n",
            "|          stock_name|            combo_id|price_max_cosine|price_min_cosine|price_avg_cosine|\n",
            "+--------------------+--------------------+----------------+----------------+----------------+\n",
            "|10679.Asien--Aust...|06207099999_08524...|       0.9889081|       0.9046139|      0.96800274|\n",
            "|10679.Asien--Aust...|03066099999_08524...|       0.9891048|       0.8502761|       0.9667747|\n",
            "|10698.Asien--Aust...|06207099999_08524...|      0.98504055|       0.9026194|       0.9648411|\n",
            "|10612.Asien--Aust...|06207099999_08524...|       0.9860405|      0.90060776|       0.9646363|\n",
            "|10679.Asien--Aust...|03862099999_08524...|       0.9890492|       0.8536509|       0.9641612|\n",
            "|1004.Asien--Austr...|06207099999_08524...|      0.97955555|      0.90912265|       0.9641316|\n",
            "|10882.Asien--Aust...|06207099999_08524...|      0.98494434|      0.89949673|      0.96351963|\n",
            "|10698.Asien--Aust...|03066099999_08524...|       0.9851558|       0.8478256|       0.9632366|\n",
            "|1004.Asien--Austr...|03066099999_08524...|       0.9797471|       0.8572473|      0.96274436|\n",
            "|10882.Asien--Aust...|03066099999_08524...|       0.9851203|      0.84618956|       0.9626548|\n",
            "|10612.Asien--Aust...|03066099999_08524...|       0.9862366|       0.8434534|       0.9624867|\n",
            "|10698.Asien--Aust...|03862099999_08524...|       0.9851175|      0.85466576|       0.9619785|\n",
            "|10882.Asien--Aust...|03862099999_08524...|       0.9851358|       0.8532747|      0.96146977|\n",
            "|11006.Asien--Aust...|06207099999_08524...|      0.98211145|      0.89852095|      0.96140003|\n",
            "|1051.Asien--Austr...|06207099999_08524...|       0.9785287|      0.90386534|         0.96138|\n",
            "|10612.Asien--Aust...|03862099999_08524...|      0.98617196|      0.84947574|       0.9607231|\n",
            "|11006.Asien--Aust...|03066099999_08524...|       0.9823006|       0.8460341|       0.9606717|\n",
            "|1051.Asien--Austr...|03066099999_08524...|       0.9786198|      0.85161823|      0.96005476|\n",
            "|1004.Asien--Austr...|03862099999_08524...|      0.97976893|      0.85852194|      0.95993596|\n",
            "|11006.Asien--Aust...|03862099999_08524...|       0.9822169|       0.8528562|      0.95941067|\n",
            "+--------------------+--------------------+----------------+----------------+----------------+\n",
            "only showing top 20 rows\n",
            "\n"
          ]
        }
      ]
    },
    {
      "cell_type": "markdown",
      "source": [
        "----"
      ],
      "metadata": {
        "id": "LqBD36tTg2H6"
      }
    },
    {
      "cell_type": "markdown",
      "source": [
        "EVERYTHING BELOW IS REDUNDANT"
      ],
      "metadata": {
        "id": "Jpo_1UMKg3XE"
      }
    },
    {
      "cell_type": "markdown",
      "source": [
        "----"
      ],
      "metadata": {
        "id": "nXaMhKPYd13H"
      }
    },
    {
      "cell_type": "code",
      "source": [
        "from pyspark.sql.functions import PandasUDFType, pandas_udf"
      ],
      "metadata": {
        "id": "0n0WJkHlJemQ"
      },
      "execution_count": null,
      "outputs": []
    },
    {
      "cell_type": "code",
      "source": [
        "import numpy as np\n",
        "\n",
        "# Names of columns \n",
        "a, b = \"price\", \"avg\" #('min', 'max', 'avg')\n",
        "cosine_sim_col = \"cosine_sim\"\n",
        "\n",
        "@pandas_udf(big_df.schema, PandasUDFType.GROUPED_MAP)\n",
        "def cos_sim(df):\n",
        "    df[cosine_sim_col] = float(np.dot(df[a], df[b]) / (np.linalg.norm(df[a]) * np.linalg.norm(df[b])))\n",
        "    return df"
      ],
      "metadata": {
        "id": "Xs2dNyWDJgSl"
      },
      "execution_count": null,
      "outputs": []
    },
    {
      "cell_type": "code",
      "source": [
        "df_final = big_df.groupby([\"stock_name\", \"combo_id\"]).apply(cos_sim)"
      ],
      "metadata": {
        "colab": {
          "base_uri": "https://localhost:8080/"
        },
        "id": "zbxV0WATJ02o",
        "outputId": "6305b48d-2739-470c-a030-bebfb45d7cd1"
      },
      "execution_count": null,
      "outputs": [
        {
          "output_type": "stream",
          "name": "stderr",
          "text": [
            "/usr/local/lib/python3.7/dist-packages/pyspark/sql/pandas/group_ops.py:84: UserWarning: It is preferred to use 'applyInPandas' over this API. This API will be deprecated in the future releases. See SPARK-28264 for more details.\n",
            "  \"more details.\", UserWarning)\n"
          ]
        }
      ]
    },
    {
      "cell_type": "code",
      "source": [
        "df_final.count()"
      ],
      "metadata": {
        "colab": {
          "base_uri": "https://localhost:8080/"
        },
        "id": "QLnksqe7KCz0",
        "outputId": "cbe4bb72-5ede-4cbf-8843-43f5238c72f0"
      },
      "execution_count": null,
      "outputs": [
        {
          "output_type": "execute_result",
          "data": {
            "text/plain": [
              "3800000"
            ]
          },
          "metadata": {},
          "execution_count": 117
        }
      ]
    },
    {
      "cell_type": "code",
      "source": [
        "df_final.write.mode('overwrite').csv('/content/drive/MyDrive/BigDataManagement/final data/cosines.csv')"
      ],
      "metadata": {
        "id": "azj-z5VxKzuQ"
      },
      "execution_count": null,
      "outputs": []
    },
    {
      "cell_type": "code",
      "source": [
        "df_final.groupBy([\"stock_name\", \"combo_id\"]).agg(f.avg(\"cosine_sim\").alias(\"cossim\")).orderBy('cossim', ascending=False).show()"
      ],
      "metadata": {
        "colab": {
          "base_uri": "https://localhost:8080/"
        },
        "id": "P7r3XCoWLOLs",
        "outputId": "03b25488-3de0-4db2-dac9-c68bade5520d"
      },
      "execution_count": null,
      "outputs": [
        {
          "output_type": "stream",
          "name": "stdout",
          "text": [
            "+--------------------+--------------------+------------------+\n",
            "|          stock_name|            combo_id|            cossim|\n",
            "+--------------------+--------------------+------------------+\n",
            "|10679.Asien--Aust...|06207099999_08524...|0.9680027365684509|\n",
            "|10679.Asien--Aust...|03066099999_08524...|0.9667748808860779|\n",
            "|10698.Asien--Aust...|06207099999_08524...|0.9648412466049194|\n",
            "|10612.Asien--Aust...|06207099999_08524...| 0.964636504650116|\n",
            "|10679.Asien--Aust...|03862099999_08524...|0.9641613364219666|\n",
            "|1004.Asien--Austr...|06207099999_08524...|0.9641316533088684|\n",
            "|10882.Asien--Aust...|06207099999_08524...|0.9635195732116699|\n",
            "|10698.Asien--Aust...|03066099999_08524...|0.9632366299629211|\n",
            "|1004.Asien--Austr...|03066099999_08524...|0.9627444744110107|\n",
            "|10882.Asien--Aust...|03066099999_08524...|0.9626548290252686|\n",
            "|10612.Asien--Aust...|03066099999_08524...|0.9624868631362915|\n",
            "|10698.Asien--Aust...|03862099999_08524...| 0.961978554725647|\n",
            "|10882.Asien--Aust...|03862099999_08524...|0.9614697694778442|\n",
            "|11006.Asien--Aust...|06207099999_08524...|0.9613999724388123|\n",
            "|1051.Asien--Austr...|06207099999_08524...|0.9613802433013916|\n",
            "|10612.Asien--Aust...|03862099999_08524...|0.9607232213020325|\n",
            "|11006.Asien--Aust...|03066099999_08524...|0.9606717228889465|\n",
            "|1051.Asien--Austr...|03066099999_08524...|0.9600548148155212|\n",
            "|1004.Asien--Austr...|03862099999_08524...|0.9599359631538391|\n",
            "|11006.Asien--Aust...|03862099999_08524...|0.9594107270240784|\n",
            "+--------------------+--------------------+------------------+\n",
            "only showing top 20 rows\n",
            "\n"
          ]
        }
      ]
    },
    {
      "cell_type": "code",
      "source": [
        "df_final.groupBy([\"stock_name\", \"combo_id\"]).agg(f.avg(\"cosine_sim\").alias(\"cossim\")).orderBy('cossim', ascending=False).count()"
      ],
      "metadata": {
        "colab": {
          "base_uri": "https://localhost:8080/"
        },
        "id": "tXFrKfhpSKcn",
        "outputId": "a8db10cc-521d-4e1c-ecf2-11852cad87e0"
      },
      "execution_count": null,
      "outputs": [
        {
          "output_type": "execute_result",
          "data": {
            "text/plain": [
              "3800"
            ]
          },
          "metadata": {},
          "execution_count": 130
        }
      ]
    },
    {
      "cell_type": "code",
      "source": [
        ""
      ],
      "metadata": {
        "id": "paiOau0PVT6a"
      },
      "execution_count": null,
      "outputs": []
    }
  ]
}