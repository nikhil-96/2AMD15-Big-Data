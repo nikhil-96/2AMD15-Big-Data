{
  "nbformat": 4,
  "nbformat_minor": 0,
  "metadata": {
    "colab": {
      "name": "Part2_Big_data.ipynb",
      "provenance": [],
      "collapsed_sections": []
    },
    "kernelspec": {
      "name": "python3",
      "display_name": "Python 3"
    },
    "language_info": {
      "name": "python"
    }
  },
  "cells": [
    {
      "cell_type": "code",
      "execution_count": 3,
      "metadata": {
        "colab": {
          "base_uri": "https://localhost:8080/"
        },
        "id": "DsKiOE8BgmR6",
        "outputId": "085c7fa7-58db-4d21-a679-112acbf8a9ef"
      },
      "outputs": [
        {
          "output_type": "stream",
          "name": "stdout",
          "text": [
            "Collecting pyspark\n",
            "  Downloading pyspark-3.2.1.tar.gz (281.4 MB)\n",
            "\u001b[K     |████████████████████████████████| 281.4 MB 33 kB/s \n",
            "\u001b[?25hCollecting findspark\n",
            "  Downloading findspark-2.0.1-py2.py3-none-any.whl (4.4 kB)\n",
            "Collecting py4j==0.10.9.3\n",
            "  Downloading py4j-0.10.9.3-py2.py3-none-any.whl (198 kB)\n",
            "\u001b[K     |████████████████████████████████| 198 kB 12.2 MB/s \n",
            "\u001b[?25hBuilding wheels for collected packages: pyspark\n",
            "  Building wheel for pyspark (setup.py) ... \u001b[?25l\u001b[?25hdone\n",
            "  Created wheel for pyspark: filename=pyspark-3.2.1-py2.py3-none-any.whl size=281853642 sha256=1f6b4d95fa955a19e1bb02af98c30d95d881166b41416465f5b4fe4a72347b4f\n",
            "  Stored in directory: /root/.cache/pip/wheels/9f/f5/07/7cd8017084dce4e93e84e92efd1e1d5334db05f2e83bcef74f\n",
            "Successfully built pyspark\n",
            "Installing collected packages: py4j, pyspark, findspark\n",
            "Successfully installed findspark-2.0.1 py4j-0.10.9.3 pyspark-3.2.1\n"
          ]
        }
      ],
      "source": [
        "!pip install pyspark findspark\n"
      ]
    },
    {
      "cell_type": "code",
      "source": [
        "import findspark\n",
        "findspark.init()\n",
        "import pyspark\n",
        "\n",
        "from pyspark import SparkContext\n",
        "from pyspark.conf import SparkConf\n",
        "from pyspark.sql import SparkSession\n",
        "\n",
        "\n",
        "sc = SparkContext.getOrCreate()\n",
        "ss = SparkSession(sc).builder.config(\"spark.driver.memory\", \"6g\").getOrCreate()\n",
        "\n",
        "import pyspark.sql.functions as f\n",
        "#import pyspark"
      ],
      "metadata": {
        "id": "-USQNv0Whyyi"
      },
      "execution_count": 4,
      "outputs": []
    },
    {
      "cell_type": "code",
      "source": [
        "from google.colab import drive\n",
        "drive.mount('/content/drive')"
      ],
      "metadata": {
        "colab": {
          "base_uri": "https://localhost:8080/"
        },
        "id": "oLztNEvO7CXL",
        "outputId": "b50c5b9c-a31d-47cf-8f7f-b83a9f227ce3"
      },
      "execution_count": 6,
      "outputs": [
        {
          "output_type": "stream",
          "name": "stdout",
          "text": [
            "Mounted at /content/drive\n"
          ]
        }
      ]
    },
    {
      "cell_type": "code",
      "source": [
        "weather_df = ss.read.option('header', True).csv(\"/content/drive/MyDrive/BigDataManagement/final data/weather-ta2.csv\").limit(20000)\n",
        "weather_df.show()"
      ],
      "metadata": {
        "colab": {
          "base_uri": "https://localhost:8080/"
        },
        "id": "xsP1VzMJh0oJ",
        "outputId": "ac9c2580-7ded-465b-d01b-ac32f5f550ca"
      },
      "execution_count": 28,
      "outputs": [
        {
          "output_type": "stream",
          "name": "stdout",
          "text": [
            "+---+-----------+----------+-------+-------+\n",
            "|_c0| station_id|      date|tmp_val|dew_val|\n",
            "+---+-----------+----------+-------+-------+\n",
            "|  0|01016099999|2016-01-01|      4|     -7|\n",
            "|  1|01016099999|2016-01-02|      6|     -1|\n",
            "|  2|01016099999|2016-01-03|      0|    -21|\n",
            "|  3|01016099999|2016-01-04|      0|     -9|\n",
            "|  4|01016099999|2016-01-05|    -53|    -61|\n",
            "|  5|01016099999|2016-01-06|   -104|   -112|\n",
            "|  6|01016099999|2016-01-07|    -62|    -81|\n",
            "|  7|01016099999|2016-01-08|   -102|   -151|\n",
            "|  8|01016099999|2016-01-09|    -72|    -88|\n",
            "|  9|01016099999|2016-01-10|    -69|    -97|\n",
            "| 10|01016099999|2016-01-11|    -93|   -122|\n",
            "| 11|01016099999|2016-01-12|   -126|   -139|\n",
            "| 12|01016099999|2016-01-13|    -86|   -107|\n",
            "| 13|01016099999|2016-01-14|    -71|    -96|\n",
            "| 14|01016099999|2016-01-15|    -61|    -78|\n",
            "| 15|01016099999|2016-01-16|    -62|    -79|\n",
            "| 16|01016099999|2016-01-17|    -27|    -32|\n",
            "| 17|01016099999|2016-01-18|    -30|    -39|\n",
            "| 18|01016099999|2016-01-19|    -42|    -54|\n",
            "| 19|01016099999|2016-01-20|    -70|    -89|\n",
            "+---+-----------+----------+-------+-------+\n",
            "only showing top 20 rows\n",
            "\n"
          ]
        }
      ]
    },
    {
      "cell_type": "code",
      "source": [
        "stocks_df=ss.read.option('header', True).csv('/content/drive/MyDrive/BigDataManagement/final data/stocks-ta2.csv')\n",
        "stocks_df.show()"
      ],
      "metadata": {
        "colab": {
          "base_uri": "https://localhost:8080/"
        },
        "id": "ou5Pbdith80-",
        "outputId": "ba80da97-197c-468e-bb46-438171cf9032"
      },
      "execution_count": 12,
      "outputs": [
        {
          "output_type": "stream",
          "name": "stdout",
          "text": [
            "+---+--------------------+----------+-----+\n",
            "|_c0|          stock_name|      date|price|\n",
            "+---+--------------------+----------+-----+\n",
            "|  0|1004.Asien--Austr...|2016-01-01| 57.5|\n",
            "|  1|1004.Asien--Austr...|2016-01-02| 57.5|\n",
            "|  2|1004.Asien--Austr...|2016-01-03| 57.5|\n",
            "|  3|1004.Asien--Austr...|2016-01-04| 57.8|\n",
            "|  4|1004.Asien--Austr...|2016-01-05|57.17|\n",
            "|  5|1004.Asien--Austr...|2016-01-06|57.65|\n",
            "|  6|1004.Asien--Austr...|2016-01-07| 58.4|\n",
            "|  7|1004.Asien--Austr...|2016-01-08|56.44|\n",
            "|  8|1004.Asien--Austr...|2016-01-09|56.44|\n",
            "|  9|1004.Asien--Austr...|2016-01-10|56.44|\n",
            "| 10|1004.Asien--Austr...|2016-01-11| 56.0|\n",
            "| 11|1004.Asien--Austr...|2016-01-12|56.72|\n",
            "| 12|1004.Asien--Austr...|2016-01-13|56.11|\n",
            "| 13|1004.Asien--Austr...|2016-01-14|55.08|\n",
            "| 14|1004.Asien--Austr...|2016-01-15|56.97|\n",
            "| 15|1004.Asien--Austr...|2016-01-16|56.97|\n",
            "| 16|1004.Asien--Austr...|2016-01-17|56.97|\n",
            "| 17|1004.Asien--Austr...|2016-01-18|54.69|\n",
            "| 18|1004.Asien--Austr...|2016-01-19|56.33|\n",
            "| 19|1004.Asien--Austr...|2016-01-20|56.89|\n",
            "+---+--------------------+----------+-----+\n",
            "only showing top 20 rows\n",
            "\n"
          ]
        }
      ]
    },
    {
      "cell_type": "code",
      "source": [
        "weather_df.registerTempTable(\"df\")\n",
        " \n",
        "mylist = ss.sql(\"\"\"\n",
        "SELECT DISTINCT  u1.station_id,\n",
        "    u2.station_id\n",
        "FROM df as u1 JOIN df as u2 ON u1.station_id> u2.station_id;\n",
        "\"\"\").collect()\n",
        " \n"
      ],
      "metadata": {
        "colab": {
          "base_uri": "https://localhost:8080/"
        },
        "id": "hPek_GPxiJgn",
        "outputId": "33e60597-477c-407d-f40f-ffc09a5d380a"
      },
      "execution_count": 13,
      "outputs": [
        {
          "output_type": "stream",
          "name": "stderr",
          "text": [
            "/usr/local/lib/python3.7/dist-packages/pyspark/sql/dataframe.py:140: FutureWarning: Deprecated in 2.0, use createOrReplaceTempView instead.\n",
            "  FutureWarning\n"
          ]
        }
      ]
    },
    {
      "cell_type": "code",
      "source": [
        "weather_df.columns"
      ],
      "metadata": {
        "colab": {
          "base_uri": "https://localhost:8080/"
        },
        "id": "DoXaxXEsA3q1",
        "outputId": "a328b469-43db-43a7-9d2b-e93d0f826b6b"
      },
      "execution_count": 41,
      "outputs": [
        {
          "output_type": "execute_result",
          "data": {
            "text/plain": [
              "['_c0', 'station_id', 'date', 'tmp_val', 'dew_val']"
            ]
          },
          "metadata": {},
          "execution_count": 41
        }
      ]
    },
    {
      "cell_type": "code",
      "source": [
        "weather_df = weather_df.select('station_id', 'date', 'tmp_val')"
      ],
      "metadata": {
        "id": "z4v-mfkTCHkT"
      },
      "execution_count": 43,
      "outputs": []
    },
    {
      "cell_type": "code",
      "source": [
        "schema = weather_df.filter(weather_df.station_id == a).alias('a').join(weather_df.filter(weather_df.station_id == b)\\\n",
        "                                         .withColumnRenamed('station_id', 'station_id_2')\\\n",
        "                                         .withColumnRenamed('date', 'date_2')\\\n",
        "                                         .withColumnRenamed('tmp_val', 'tmp_val_2').alias('b'),\n",
        "                                            f.col(\"a.date\") == f.col(\"b.date_2\"), 'inner').schema"
      ],
      "metadata": {
        "id": "ky_-q0NL8-5Z"
      },
      "execution_count": 44,
      "outputs": []
    },
    {
      "cell_type": "code",
      "source": [
        "schema"
      ],
      "metadata": {
        "colab": {
          "base_uri": "https://localhost:8080/"
        },
        "id": "M-2gVwRSCsUw",
        "outputId": "c31cb106-6438-4323-dae4-3ee534599f8e"
      },
      "execution_count": 46,
      "outputs": [
        {
          "output_type": "execute_result",
          "data": {
            "text/plain": [
              "StructType(List(StructField(station_id,StringType,true),StructField(date,StringType,true),StructField(tmp_val,StringType,true),StructField(station_id_2,StringType,true),StructField(date_2,StringType,true),StructField(tmp_val_2,StringType,true)))"
            ]
          },
          "metadata": {},
          "execution_count": 46
        }
      ]
    },
    {
      "cell_type": "markdown",
      "source": [
        ""
      ],
      "metadata": {
        "id": "43ArQWwzCpV2"
      }
    },
    {
      "cell_type": "code",
      "source": [
        "from pyspark.sql.functions import col\n",
        "from pyspark.sql.types import StructType\n",
        "\n",
        "df = ss.createDataFrame([], schema)\n",
        "\n",
        "for a, b in mylist:\n",
        "    df = df.union(weather_df.filter(weather_df.station_id == a).alias('a').join(weather_df.filter(weather_df.station_id == b)\\\n",
        "                                         .withColumnRenamed('station_id', 'station_id_2')\\\n",
        "                                         .withColumnRenamed('date', 'date_2')\\\n",
        "                                         .withColumnRenamed('tmp_val', 'tmp_val_2').alias('b'),\n",
        "                                            f.col(\"a.date\") == f.col(\"b.date_2\"), 'inner'))"
      ],
      "metadata": {
        "id": "l5ILTQ1P7vTz"
      },
      "execution_count": 90,
      "outputs": []
    },
    {
      "cell_type": "code",
      "source": [
        "df.count()"
      ],
      "metadata": {
        "colab": {
          "base_uri": "https://localhost:8080/"
        },
        "id": "PdMFW4e5_J6q",
        "outputId": "01e22c9a-0ff6-4666-e265-ed43f3cd46ac"
      },
      "execution_count": 48,
      "outputs": [
        {
          "output_type": "execute_result",
          "data": {
            "text/plain": [
              "190000"
            ]
          },
          "metadata": {},
          "execution_count": 48
        }
      ]
    },
    {
      "cell_type": "code",
      "source": [
        "df.show()"
      ],
      "metadata": {
        "id": "9BMT2DFUidRk",
        "colab": {
          "base_uri": "https://localhost:8080/"
        },
        "outputId": "62bedf43-1e50-4c1f-bbe0-2ef49d05a920"
      },
      "execution_count": 49,
      "outputs": [
        {
          "output_type": "stream",
          "name": "stdout",
          "text": [
            "+-----------+----------+-------+------------+----------+---------+\n",
            "| station_id|      date|tmp_val|station_id_2|    date_2|tmp_val_2|\n",
            "+-----------+----------+-------+------------+----------+---------+\n",
            "|02520099999|2016-01-01|      6| 01016099999|2016-01-01|        4|\n",
            "|02520099999|2016-01-02|      4| 01016099999|2016-01-02|        6|\n",
            "|02520099999|2016-01-03|    -38| 01016099999|2016-01-03|        0|\n",
            "|02520099999|2016-01-04|    -58| 01016099999|2016-01-04|        0|\n",
            "|02520099999|2016-01-05|    -65| 01016099999|2016-01-05|      -53|\n",
            "|02520099999|2016-01-06|    -91| 01016099999|2016-01-06|     -104|\n",
            "|02520099999|2016-01-07|   -130| 01016099999|2016-01-07|      -62|\n",
            "|02520099999|2016-01-08|    -47| 01016099999|2016-01-08|     -102|\n",
            "|02520099999|2016-01-09|    -49| 01016099999|2016-01-09|      -72|\n",
            "|02520099999|2016-01-10|    -25| 01016099999|2016-01-10|      -69|\n",
            "|02520099999|2016-01-11|     12| 01016099999|2016-01-11|      -93|\n",
            "|02520099999|2016-01-12|      5| 01016099999|2016-01-12|     -126|\n",
            "|02520099999|2016-01-13|    -27| 01016099999|2016-01-13|      -86|\n",
            "|02520099999|2016-01-14|    -73| 01016099999|2016-01-14|      -71|\n",
            "|02520099999|2016-01-15|   -142| 01016099999|2016-01-15|      -61|\n",
            "|02520099999|2016-01-16|   -105| 01016099999|2016-01-16|      -62|\n",
            "|02520099999|2016-01-17|   -156| 01016099999|2016-01-17|      -27|\n",
            "|02520099999|2016-01-18|    -99| 01016099999|2016-01-18|      -30|\n",
            "|02520099999|2016-01-19|    -61| 01016099999|2016-01-19|      -42|\n",
            "|02520099999|2016-01-20|    -57| 01016099999|2016-01-20|      -70|\n",
            "+-----------+----------+-------+------------+----------+---------+\n",
            "only showing top 20 rows\n",
            "\n"
          ]
        }
      ]
    },
    {
      "cell_type": "code",
      "source": [
        "df = df.select('station_id', 'station_id_2', 'date', 'tmp_val', 'tmp_val_2')"
      ],
      "metadata": {
        "id": "kvP69MFHDPg5"
      },
      "execution_count": 91,
      "outputs": []
    },
    {
      "cell_type": "code",
      "source": [
        "from pyspark.sql.types import StringType, FloatType\n",
        "\n",
        "def max(a,b):\n",
        "  if float(a) > float(b):\n",
        "    return float(a)\n",
        "  else:\n",
        "    return float(b)\n",
        "\n",
        "def min(a,b):\n",
        "  if float(a) > float(b):\n",
        "    return float(b)\n",
        "  else:\n",
        "    return float(a)\n",
        "\n",
        "def avg(a,b):\n",
        "  return (float(a) + float(b))/2\n",
        "\n",
        "max_udf = f.udf(max, FloatType())\n",
        "min_udf = f.udf(min, FloatType())\n",
        "avg_udf = f.udf(avg, FloatType())"
      ],
      "metadata": {
        "id": "AX_IX5vKDsoP"
      },
      "execution_count": 95,
      "outputs": []
    },
    {
      "cell_type": "code",
      "source": [
        "df = df.withColumn('min', min_udf('tmp_val', 'tmp_val_2'))\\\n",
        "  .withColumn('avg', avg_udf('tmp_val', 'tmp_val_2'))\\\n",
        "  .withColumn('max', max_udf('tmp_val', 'tmp_val_2'))"
      ],
      "metadata": {
        "id": "BAUaLKb29vc6"
      },
      "execution_count": 96,
      "outputs": []
    },
    {
      "cell_type": "code",
      "source": [
        "df.show()"
      ],
      "metadata": {
        "colab": {
          "base_uri": "https://localhost:8080/"
        },
        "id": "H-aMrbC4DbKx",
        "outputId": "f2a5d56d-d8db-494d-f0f7-b10b0ad125c2"
      },
      "execution_count": 97,
      "outputs": [
        {
          "output_type": "stream",
          "name": "stdout",
          "text": [
            "+-----------+------------+----------+-------+---------+------+------+-----+\n",
            "| station_id|station_id_2|      date|tmp_val|tmp_val_2|   min|   avg|  max|\n",
            "+-----------+------------+----------+-------+---------+------+------+-----+\n",
            "|02520099999| 01016099999|2016-01-01|      6|        4|   4.0|   5.0|  6.0|\n",
            "|02520099999| 01016099999|2016-01-02|      4|        6|   4.0|   5.0|  6.0|\n",
            "|02520099999| 01016099999|2016-01-03|    -38|        0| -38.0| -19.0|  0.0|\n",
            "|02520099999| 01016099999|2016-01-04|    -58|        0| -58.0| -29.0|  0.0|\n",
            "|02520099999| 01016099999|2016-01-05|    -65|      -53| -65.0| -59.0|-53.0|\n",
            "|02520099999| 01016099999|2016-01-06|    -91|     -104|-104.0| -97.5|-91.0|\n",
            "|02520099999| 01016099999|2016-01-07|   -130|      -62|-130.0| -96.0|-62.0|\n",
            "|02520099999| 01016099999|2016-01-08|    -47|     -102|-102.0| -74.5|-47.0|\n",
            "|02520099999| 01016099999|2016-01-09|    -49|      -72| -72.0| -60.5|-49.0|\n",
            "|02520099999| 01016099999|2016-01-10|    -25|      -69| -69.0| -47.0|-25.0|\n",
            "|02520099999| 01016099999|2016-01-11|     12|      -93| -93.0| -40.5| 12.0|\n",
            "|02520099999| 01016099999|2016-01-12|      5|     -126|-126.0| -60.5|  5.0|\n",
            "|02520099999| 01016099999|2016-01-13|    -27|      -86| -86.0| -56.5|-27.0|\n",
            "|02520099999| 01016099999|2016-01-14|    -73|      -71| -73.0| -72.0|-71.0|\n",
            "|02520099999| 01016099999|2016-01-15|   -142|      -61|-142.0|-101.5|-61.0|\n",
            "|02520099999| 01016099999|2016-01-16|   -105|      -62|-105.0| -83.5|-62.0|\n",
            "|02520099999| 01016099999|2016-01-17|   -156|      -27|-156.0| -91.5|-27.0|\n",
            "|02520099999| 01016099999|2016-01-18|    -99|      -30| -99.0| -64.5|-30.0|\n",
            "|02520099999| 01016099999|2016-01-19|    -61|      -42| -61.0| -51.5|-42.0|\n",
            "|02520099999| 01016099999|2016-01-20|    -57|      -70| -70.0| -63.5|-57.0|\n",
            "+-----------+------------+----------+-------+---------+------+------+-----+\n",
            "only showing top 20 rows\n",
            "\n"
          ]
        }
      ]
    },
    {
      "cell_type": "code",
      "source": [
        "def unqiue_combination(a, b):\n",
        "  col = [a, b]\n",
        "  col.sort()\n",
        "  return '_'.join(col)\n",
        "\n",
        "my_udf = f.udf(unqiue_combination, StringType())"
      ],
      "metadata": {
        "id": "VlsIXWWmFo89"
      },
      "execution_count": 98,
      "outputs": []
    },
    {
      "cell_type": "code",
      "source": [
        "df = df.withColumn('combo_id', my_udf('station_id', 'station_id_2')).select('combo_id', 'date', 'min', 'avg', 'max')"
      ],
      "metadata": {
        "id": "RvpgOSWkEcA-"
      },
      "execution_count": 99,
      "outputs": []
    },
    {
      "cell_type": "code",
      "source": [
        "df.show()"
      ],
      "metadata": {
        "colab": {
          "base_uri": "https://localhost:8080/"
        },
        "id": "f8219gfSGB2Q",
        "outputId": "893f7292-c6e5-402c-e5db-f88ef2a3bcf2"
      },
      "execution_count": 58,
      "outputs": [
        {
          "output_type": "stream",
          "name": "stdout",
          "text": [
            "+--------------------+----------+----+------+---+\n",
            "|            combo_id|      date| min|   avg|max|\n",
            "+--------------------+----------+----+------+---+\n",
            "|01016099999_02520...|2016-01-01|   4|   5.0|  6|\n",
            "|01016099999_02520...|2016-01-02|   4|   5.0|  6|\n",
            "|01016099999_02520...|2016-01-03| -38| -19.0|  0|\n",
            "|01016099999_02520...|2016-01-04| -58| -29.0|  0|\n",
            "|01016099999_02520...|2016-01-05| -65| -59.0|-53|\n",
            "|01016099999_02520...|2016-01-06|-104| -97.5|-91|\n",
            "|01016099999_02520...|2016-01-07|-130| -96.0|-62|\n",
            "|01016099999_02520...|2016-01-08|-102| -74.5|-47|\n",
            "|01016099999_02520...|2016-01-09| -72| -60.5|-49|\n",
            "|01016099999_02520...|2016-01-10| -69| -47.0|-25|\n",
            "|01016099999_02520...|2016-01-11| -93| -40.5| 12|\n",
            "|01016099999_02520...|2016-01-12|-126| -60.5|  5|\n",
            "|01016099999_02520...|2016-01-13| -86| -56.5|-27|\n",
            "|01016099999_02520...|2016-01-14| -73| -72.0|-71|\n",
            "|01016099999_02520...|2016-01-15|-142|-101.5|-61|\n",
            "|01016099999_02520...|2016-01-16|-105| -83.5|-62|\n",
            "|01016099999_02520...|2016-01-17|-156| -91.5|-27|\n",
            "|01016099999_02520...|2016-01-18| -99| -64.5|-30|\n",
            "|01016099999_02520...|2016-01-19| -61| -51.5|-42|\n",
            "|01016099999_02520...|2016-01-20| -70| -63.5|-57|\n",
            "+--------------------+----------+----+------+---+\n",
            "only showing top 20 rows\n",
            "\n"
          ]
        }
      ]
    },
    {
      "cell_type": "code",
      "source": [
        ""
      ],
      "metadata": {
        "id": "x2JA4HeiGDq6"
      },
      "execution_count": null,
      "outputs": []
    },
    {
      "cell_type": "markdown",
      "source": [
        "------"
      ],
      "metadata": {
        "id": "6Bf4lTZcHlnt"
      }
    },
    {
      "cell_type": "code",
      "source": [
        "stocks_df=ss.read.option('header', True).csv('/content/drive/MyDrive/BigDataManagement/final data/stocks-ta2.csv').limit(20000)\n",
        "stocks_df.show()"
      ],
      "metadata": {
        "colab": {
          "base_uri": "https://localhost:8080/"
        },
        "id": "igXhayLNHmUr",
        "outputId": "8ffab7bf-8ada-429d-a8d1-2d32d7e28736"
      },
      "execution_count": 59,
      "outputs": [
        {
          "output_type": "stream",
          "name": "stdout",
          "text": [
            "+---+--------------------+----------+-----+\n",
            "|_c0|          stock_name|      date|price|\n",
            "+---+--------------------+----------+-----+\n",
            "|  0|1004.Asien--Austr...|2016-01-01| 57.5|\n",
            "|  1|1004.Asien--Austr...|2016-01-02| 57.5|\n",
            "|  2|1004.Asien--Austr...|2016-01-03| 57.5|\n",
            "|  3|1004.Asien--Austr...|2016-01-04| 57.8|\n",
            "|  4|1004.Asien--Austr...|2016-01-05|57.17|\n",
            "|  5|1004.Asien--Austr...|2016-01-06|57.65|\n",
            "|  6|1004.Asien--Austr...|2016-01-07| 58.4|\n",
            "|  7|1004.Asien--Austr...|2016-01-08|56.44|\n",
            "|  8|1004.Asien--Austr...|2016-01-09|56.44|\n",
            "|  9|1004.Asien--Austr...|2016-01-10|56.44|\n",
            "| 10|1004.Asien--Austr...|2016-01-11| 56.0|\n",
            "| 11|1004.Asien--Austr...|2016-01-12|56.72|\n",
            "| 12|1004.Asien--Austr...|2016-01-13|56.11|\n",
            "| 13|1004.Asien--Austr...|2016-01-14|55.08|\n",
            "| 14|1004.Asien--Austr...|2016-01-15|56.97|\n",
            "| 15|1004.Asien--Austr...|2016-01-16|56.97|\n",
            "| 16|1004.Asien--Austr...|2016-01-17|56.97|\n",
            "| 17|1004.Asien--Austr...|2016-01-18|54.69|\n",
            "| 18|1004.Asien--Austr...|2016-01-19|56.33|\n",
            "| 19|1004.Asien--Austr...|2016-01-20|56.89|\n",
            "+---+--------------------+----------+-----+\n",
            "only showing top 20 rows\n",
            "\n"
          ]
        }
      ]
    },
    {
      "cell_type": "code",
      "source": [
        "stocks_df = stocks_df.withColumn('price', f.col('price').cast(FloatType()))"
      ],
      "metadata": {
        "id": "O8q1EEgXQBRn"
      },
      "execution_count": 102,
      "outputs": []
    },
    {
      "cell_type": "code",
      "source": [
        "from pyspark.sql.types import FloatType, DoubleType\n",
        "\n",
        "big_df = stocks_df.alias('a').join(df.alias('b'), f.col('a.date') == f.col('b.date'), 'inner')\n",
        "big_df = big_df.withColumn(\"cosine_sim\", f.lit(1.0).cast(\"float\"))\n",
        "big_df = big_df.select('a.date', 'stock_name', 'combo_id', 'price', 'avg', 'min', 'max', 'cosine_sim')"
      ],
      "metadata": {
        "id": "Qc9rV2-zHqq7"
      },
      "execution_count": 111,
      "outputs": []
    },
    {
      "cell_type": "code",
      "source": [
        "list(big_df.schema)"
      ],
      "metadata": {
        "colab": {
          "base_uri": "https://localhost:8080/"
        },
        "id": "bnKXhAlYOs6w",
        "outputId": "90805982-31e2-4f05-f9be-30b0d2838118"
      },
      "execution_count": 112,
      "outputs": [
        {
          "output_type": "execute_result",
          "data": {
            "text/plain": [
              "[StructField(date,StringType,true),\n",
              " StructField(stock_name,StringType,true),\n",
              " StructField(combo_id,StringType,true),\n",
              " StructField(price,FloatType,true),\n",
              " StructField(avg,FloatType,true),\n",
              " StructField(min,FloatType,true),\n",
              " StructField(max,FloatType,true),\n",
              " StructField(cosine_sim,FloatType,false)]"
            ]
          },
          "metadata": {},
          "execution_count": 112
        }
      ]
    },
    {
      "cell_type": "code",
      "source": [
        "big_df.columns"
      ],
      "metadata": {
        "colab": {
          "base_uri": "https://localhost:8080/"
        },
        "id": "aQelto60K79s",
        "outputId": "1bdebb72-abc8-4200-9cdd-2e3c75115b63"
      },
      "execution_count": 74,
      "outputs": [
        {
          "output_type": "execute_result",
          "data": {
            "text/plain": [
              "['date', 'stock_name', 'combo_id', 'price', 'avg', 'min', 'max', 'cosine_sim']"
            ]
          },
          "metadata": {},
          "execution_count": 74
        }
      ]
    },
    {
      "cell_type": "code",
      "source": [
        "big_df.count()"
      ],
      "metadata": {
        "colab": {
          "base_uri": "https://localhost:8080/"
        },
        "id": "MsLGUSk0TSdr",
        "outputId": "2bddbe69-3995-416a-af97-fa015954aa29"
      },
      "execution_count": 124,
      "outputs": [
        {
          "output_type": "execute_result",
          "data": {
            "text/plain": [
              "3800000"
            ]
          },
          "metadata": {},
          "execution_count": 124
        }
      ]
    },
    {
      "cell_type": "code",
      "source": [
        "from pyspark.sql.functions import PandasUDFType, pandas_udf"
      ],
      "metadata": {
        "id": "0n0WJkHlJemQ"
      },
      "execution_count": 113,
      "outputs": []
    },
    {
      "cell_type": "code",
      "source": [
        "import numpy as np\n",
        "\n",
        "# Names of columns \n",
        "a, b = \"price\", \"avg\" #('min', 'max', 'avg')\n",
        "cosine_sim_col = \"cosine_sim\"\n",
        "\n",
        "@pandas_udf(big_df.schema, PandasUDFType.GROUPED_MAP)\n",
        "def cos_sim(df):\n",
        "    df[cosine_sim_col] = float(np.dot(df[a], df[b]) / (np.linalg.norm(df[a]) * np.linalg.norm(df[b])))\n",
        "    return df"
      ],
      "metadata": {
        "id": "Xs2dNyWDJgSl"
      },
      "execution_count": 115,
      "outputs": []
    },
    {
      "cell_type": "code",
      "source": [
        "df_final = big_df.groupby([\"stock_name\", \"combo_id\"]).apply(cos_sim)"
      ],
      "metadata": {
        "colab": {
          "base_uri": "https://localhost:8080/"
        },
        "id": "zbxV0WATJ02o",
        "outputId": "6305b48d-2739-470c-a030-bebfb45d7cd1"
      },
      "execution_count": 116,
      "outputs": [
        {
          "output_type": "stream",
          "name": "stderr",
          "text": [
            "/usr/local/lib/python3.7/dist-packages/pyspark/sql/pandas/group_ops.py:84: UserWarning: It is preferred to use 'applyInPandas' over this API. This API will be deprecated in the future releases. See SPARK-28264 for more details.\n",
            "  \"more details.\", UserWarning)\n"
          ]
        }
      ]
    },
    {
      "cell_type": "code",
      "source": [
        "df_final.count()"
      ],
      "metadata": {
        "colab": {
          "base_uri": "https://localhost:8080/"
        },
        "id": "QLnksqe7KCz0",
        "outputId": "cbe4bb72-5ede-4cbf-8843-43f5238c72f0"
      },
      "execution_count": 117,
      "outputs": [
        {
          "output_type": "execute_result",
          "data": {
            "text/plain": [
              "3800000"
            ]
          },
          "metadata": {},
          "execution_count": 117
        }
      ]
    },
    {
      "cell_type": "code",
      "source": [
        "df_final.write.mode('overwrite').csv('/content/drive/MyDrive/BigDataManagement/final data/cosines.csv')"
      ],
      "metadata": {
        "id": "azj-z5VxKzuQ"
      },
      "execution_count": null,
      "outputs": []
    },
    {
      "cell_type": "code",
      "source": [
        "df_final.groupBy([\"stock_name\", \"combo_id\"]).agg(f.avg(\"cosine_sim\").alias(\"cossim\")).orderBy('cossim', ascending=False).show()"
      ],
      "metadata": {
        "colab": {
          "base_uri": "https://localhost:8080/"
        },
        "id": "P7r3XCoWLOLs",
        "outputId": "03b25488-3de0-4db2-dac9-c68bade5520d"
      },
      "execution_count": 129,
      "outputs": [
        {
          "output_type": "stream",
          "name": "stdout",
          "text": [
            "+--------------------+--------------------+------------------+\n",
            "|          stock_name|            combo_id|            cossim|\n",
            "+--------------------+--------------------+------------------+\n",
            "|10679.Asien--Aust...|06207099999_08524...|0.9680027365684509|\n",
            "|10679.Asien--Aust...|03066099999_08524...|0.9667748808860779|\n",
            "|10698.Asien--Aust...|06207099999_08524...|0.9648412466049194|\n",
            "|10612.Asien--Aust...|06207099999_08524...| 0.964636504650116|\n",
            "|10679.Asien--Aust...|03862099999_08524...|0.9641613364219666|\n",
            "|1004.Asien--Austr...|06207099999_08524...|0.9641316533088684|\n",
            "|10882.Asien--Aust...|06207099999_08524...|0.9635195732116699|\n",
            "|10698.Asien--Aust...|03066099999_08524...|0.9632366299629211|\n",
            "|1004.Asien--Austr...|03066099999_08524...|0.9627444744110107|\n",
            "|10882.Asien--Aust...|03066099999_08524...|0.9626548290252686|\n",
            "|10612.Asien--Aust...|03066099999_08524...|0.9624868631362915|\n",
            "|10698.Asien--Aust...|03862099999_08524...| 0.961978554725647|\n",
            "|10882.Asien--Aust...|03862099999_08524...|0.9614697694778442|\n",
            "|11006.Asien--Aust...|06207099999_08524...|0.9613999724388123|\n",
            "|1051.Asien--Austr...|06207099999_08524...|0.9613802433013916|\n",
            "|10612.Asien--Aust...|03862099999_08524...|0.9607232213020325|\n",
            "|11006.Asien--Aust...|03066099999_08524...|0.9606717228889465|\n",
            "|1051.Asien--Austr...|03066099999_08524...|0.9600548148155212|\n",
            "|1004.Asien--Austr...|03862099999_08524...|0.9599359631538391|\n",
            "|11006.Asien--Aust...|03862099999_08524...|0.9594107270240784|\n",
            "+--------------------+--------------------+------------------+\n",
            "only showing top 20 rows\n",
            "\n"
          ]
        }
      ]
    },
    {
      "cell_type": "code",
      "source": [
        "df_final.groupBy([\"stock_name\", \"combo_id\"]).agg(f.avg(\"cosine_sim\").alias(\"cossim\")).orderBy('cossim', ascending=False).count()"
      ],
      "metadata": {
        "colab": {
          "base_uri": "https://localhost:8080/"
        },
        "id": "tXFrKfhpSKcn",
        "outputId": "a8db10cc-521d-4e1c-ecf2-11852cad87e0"
      },
      "execution_count": 130,
      "outputs": [
        {
          "output_type": "execute_result",
          "data": {
            "text/plain": [
              "3800"
            ]
          },
          "metadata": {},
          "execution_count": 130
        }
      ]
    },
    {
      "cell_type": "code",
      "source": [
        ""
      ],
      "metadata": {
        "id": "paiOau0PVT6a"
      },
      "execution_count": null,
      "outputs": []
    }
  ]
}