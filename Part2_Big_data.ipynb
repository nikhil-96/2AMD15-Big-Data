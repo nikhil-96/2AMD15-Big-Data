{
 "cells": [
  {
   "cell_type": "code",
   "execution_count": 1,
   "metadata": {
    "colab": {
     "base_uri": "https://localhost:8080/"
    },
    "id": "DsKiOE8BgmR6",
    "outputId": "085c7fa7-58db-4d21-a679-112acbf8a9ef"
   },
   "outputs": [
    {
     "name": "stdout",
     "output_type": "stream",
     "text": [
      "Requirement already satisfied: pyspark in c:\\users\\patni\\anaconda3\\lib\\site-packages (3.2.1)\n",
      "Requirement already satisfied: findspark in c:\\users\\patni\\anaconda3\\lib\\site-packages (2.0.1)\n",
      "Requirement already satisfied: py4j==0.10.9.3 in c:\\users\\patni\\anaconda3\\lib\\site-packages (from pyspark) (0.10.9.3)\n"
     ]
    }
   ],
   "source": [
    "!pip install pyspark findspark\n"
   ]
  },
  {
   "cell_type": "code",
   "execution_count": 1,
   "metadata": {
    "id": "-USQNv0Whyyi"
   },
   "outputs": [],
   "source": [
    "# import findspark\n",
    "# findspark.init()\n",
    "import pyspark\n",
    "\n",
    "from pyspark import SparkContext\n",
    "from pyspark.conf import SparkConf\n",
    "from pyspark.sql import SparkSession\n",
    "\n",
    "conf = SparkConf().setAppName(\"2AMD15-MS1_Part3\")\n",
    "\n",
    "sc = SparkContext(conf=conf).getOrCreate()\n",
    "ss = SparkSession(sc).builder.config(\"spark.driver.memory\", \"6g\").getOrCreate()\n",
    "\n",
    "import pyspark.sql.functions as f\n",
    "#import pyspark"
   ]
  },
  {
   "cell_type": "code",
   "execution_count": 4,
   "metadata": {
    "colab": {
     "base_uri": "https://localhost:8080/"
    },
    "id": "oLztNEvO7CXL",
    "outputId": "b50c5b9c-a31d-47cf-8f7f-b83a9f227ce3"
   },
   "outputs": [],
   "source": [
    "# from google.colab import drive\n",
    "# drive.mount('/content/drive')"
   ]
  },
  {
   "cell_type": "code",
   "execution_count": 5,
   "metadata": {
    "colab": {
     "base_uri": "https://localhost:8080/"
    },
    "id": "xsP1VzMJh0oJ",
    "outputId": "ac9c2580-7ded-465b-d01b-ac32f5f550ca"
   },
   "outputs": [
    {
     "name": "stdout",
     "output_type": "stream",
     "text": [
      "+---+-----------+----------+-------+-------+\n",
      "|_c0| station_id|      date|tmp_val|dew_val|\n",
      "+---+-----------+----------+-------+-------+\n",
      "|  0|01016099999|2016-01-01|      4|     -7|\n",
      "|  1|01016099999|2016-01-02|      6|     -1|\n",
      "|  2|01016099999|2016-01-03|      0|    -21|\n",
      "|  3|01016099999|2016-01-04|      0|     -9|\n",
      "|  4|01016099999|2016-01-05|    -53|    -61|\n",
      "|  5|01016099999|2016-01-06|   -104|   -112|\n",
      "|  6|01016099999|2016-01-07|    -62|    -81|\n",
      "|  7|01016099999|2016-01-08|   -102|   -151|\n",
      "|  8|01016099999|2016-01-09|    -72|    -88|\n",
      "|  9|01016099999|2016-01-10|    -69|    -97|\n",
      "| 10|01016099999|2016-01-11|    -93|   -122|\n",
      "| 11|01016099999|2016-01-12|   -126|   -139|\n",
      "| 12|01016099999|2016-01-13|    -86|   -107|\n",
      "| 13|01016099999|2016-01-14|    -71|    -96|\n",
      "| 14|01016099999|2016-01-15|    -61|    -78|\n",
      "| 15|01016099999|2016-01-16|    -62|    -79|\n",
      "| 16|01016099999|2016-01-17|    -27|    -32|\n",
      "| 17|01016099999|2016-01-18|    -30|    -39|\n",
      "| 18|01016099999|2016-01-19|    -42|    -54|\n",
      "| 19|01016099999|2016-01-20|    -70|    -89|\n",
      "+---+-----------+----------+-------+-------+\n",
      "only showing top 20 rows\n",
      "\n"
     ]
    }
   ],
   "source": [
    "weather_df = ss.read.option('header', True).csv(\"aligned data/weather-ta2.csv\").limit(20000)\n",
    "weather_df.show()"
   ]
  },
  {
   "cell_type": "code",
   "execution_count": 6,
   "metadata": {
    "colab": {
     "base_uri": "https://localhost:8080/"
    },
    "id": "ou5Pbdith80-",
    "outputId": "ba80da97-197c-468e-bb46-438171cf9032"
   },
   "outputs": [
    {
     "name": "stdout",
     "output_type": "stream",
     "text": [
      "+---+--------------------+----------+-----+\n",
      "|_c0|          stock_name|      date|price|\n",
      "+---+--------------------+----------+-----+\n",
      "|  0|1004.Asien--Austr...|2016-01-01| 57.5|\n",
      "|  1|1004.Asien--Austr...|2016-01-02| 57.5|\n",
      "|  2|1004.Asien--Austr...|2016-01-03| 57.5|\n",
      "|  3|1004.Asien--Austr...|2016-01-04| 57.8|\n",
      "|  4|1004.Asien--Austr...|2016-01-05|57.17|\n",
      "|  5|1004.Asien--Austr...|2016-01-06|57.65|\n",
      "|  6|1004.Asien--Austr...|2016-01-07| 58.4|\n",
      "|  7|1004.Asien--Austr...|2016-01-08|56.44|\n",
      "|  8|1004.Asien--Austr...|2016-01-09|56.44|\n",
      "|  9|1004.Asien--Austr...|2016-01-10|56.44|\n",
      "| 10|1004.Asien--Austr...|2016-01-11| 56.0|\n",
      "| 11|1004.Asien--Austr...|2016-01-12|56.72|\n",
      "| 12|1004.Asien--Austr...|2016-01-13|56.11|\n",
      "| 13|1004.Asien--Austr...|2016-01-14|55.08|\n",
      "| 14|1004.Asien--Austr...|2016-01-15|56.97|\n",
      "| 15|1004.Asien--Austr...|2016-01-16|56.97|\n",
      "| 16|1004.Asien--Austr...|2016-01-17|56.97|\n",
      "| 17|1004.Asien--Austr...|2016-01-18|54.69|\n",
      "| 18|1004.Asien--Austr...|2016-01-19|56.33|\n",
      "| 19|1004.Asien--Austr...|2016-01-20|56.89|\n",
      "+---+--------------------+----------+-----+\n",
      "only showing top 20 rows\n",
      "\n"
     ]
    }
   ],
   "source": [
    "stocks_df=ss.read.option('header', True).csv('aligned data/stocks-ta2.csv')\n",
    "stocks_df.show()"
   ]
  },
  {
   "cell_type": "code",
   "execution_count": 7,
   "metadata": {
    "colab": {
     "base_uri": "https://localhost:8080/"
    },
    "id": "hPek_GPxiJgn",
    "outputId": "33e60597-477c-407d-f40f-ffc09a5d380a"
   },
   "outputs": [
    {
     "name": "stderr",
     "output_type": "stream",
     "text": [
      "C:\\Spark\\spark-3.2.1-bin-hadoop3.2\\python\\pyspark\\sql\\dataframe.py:138: FutureWarning: Deprecated in 2.0, use createOrReplaceTempView instead.\n",
      "  warnings.warn(\n"
     ]
    }
   ],
   "source": [
    "weather_df.registerTempTable(\"df\")\n",
    " \n",
    "mylist = ss.sql(\"\"\"\n",
    "SELECT DISTINCT  u1.station_id,\n",
    "    u2.station_id\n",
    "FROM df as u1 JOIN df as u2 ON u1.station_id> u2.station_id;\n",
    "\"\"\").collect()\n",
    " \n"
   ]
  },
  {
   "cell_type": "code",
   "execution_count": 8,
   "metadata": {},
   "outputs": [],
   "source": [
    "a = mylist[0][0]\n",
    "b = mylist[0][1]"
   ]
  },
  {
   "cell_type": "code",
   "execution_count": 9,
   "metadata": {
    "colab": {
     "base_uri": "https://localhost:8080/"
    },
    "id": "DoXaxXEsA3q1",
    "outputId": "a328b469-43db-43a7-9d2b-e93d0f826b6b"
   },
   "outputs": [
    {
     "data": {
      "text/plain": [
       "['_c0', 'station_id', 'date', 'tmp_val', 'dew_val']"
      ]
     },
     "execution_count": 9,
     "metadata": {},
     "output_type": "execute_result"
    }
   ],
   "source": [
    "weather_df.columns"
   ]
  },
  {
   "cell_type": "code",
   "execution_count": 10,
   "metadata": {
    "id": "z4v-mfkTCHkT"
   },
   "outputs": [],
   "source": [
    "weather_df = weather_df.select('station_id', 'date', 'tmp_val')"
   ]
  },
  {
   "cell_type": "code",
   "execution_count": 11,
   "metadata": {
    "id": "ky_-q0NL8-5Z"
   },
   "outputs": [],
   "source": [
    "schema = weather_df.filter(weather_df.station_id == a).alias('a').join(weather_df.filter(weather_df.station_id == b)\\\n",
    "                                         .withColumnRenamed('station_id', 'station_id_2')\\\n",
    "                                         .withColumnRenamed('date', 'date_2')\\\n",
    "                                         .withColumnRenamed('tmp_val', 'tmp_val_2').alias('b'),\n",
    "                                            f.col(\"a.date\") == f.col(\"b.date_2\"), 'inner').schema"
   ]
  },
  {
   "cell_type": "code",
   "execution_count": 12,
   "metadata": {
    "colab": {
     "base_uri": "https://localhost:8080/"
    },
    "id": "M-2gVwRSCsUw",
    "outputId": "c31cb106-6438-4323-dae4-3ee534599f8e"
   },
   "outputs": [
    {
     "data": {
      "text/plain": [
       "StructType(List(StructField(station_id,StringType,true),StructField(date,StringType,true),StructField(tmp_val,StringType,true),StructField(station_id_2,StringType,true),StructField(date_2,StringType,true),StructField(tmp_val_2,StringType,true)))"
      ]
     },
     "execution_count": 12,
     "metadata": {},
     "output_type": "execute_result"
    }
   ],
   "source": [
    "schema"
   ]
  },
  {
   "cell_type": "markdown",
   "metadata": {
    "id": "43ArQWwzCpV2"
   },
   "source": []
  },
  {
   "cell_type": "code",
   "execution_count": 13,
   "metadata": {
    "id": "l5ILTQ1P7vTz"
   },
   "outputs": [],
   "source": [
    "from pyspark.sql.functions import col\n",
    "from pyspark.sql.types import StructType\n",
    "\n",
    "df = ss.createDataFrame([], schema)\n",
    "\n",
    "for a, b in mylist:\n",
    "    df = df.union(weather_df.filter(weather_df.station_id == a).alias('a').join(weather_df.filter(weather_df.station_id == b)\\\n",
    "                                         .withColumnRenamed('station_id', 'station_id_2')\\\n",
    "                                         .withColumnRenamed('date', 'date_2')\\\n",
    "                                         .withColumnRenamed('tmp_val', 'tmp_val_2').alias('b'),\n",
    "                                            f.col(\"a.date\") == f.col(\"b.date_2\"), 'inner'))"
   ]
  },
  {
   "cell_type": "code",
   "execution_count": 14,
   "metadata": {
    "colab": {
     "base_uri": "https://localhost:8080/"
    },
    "id": "PdMFW4e5_J6q",
    "outputId": "01e22c9a-0ff6-4666-e265-ed43f3cd46ac"
   },
   "outputs": [
    {
     "data": {
      "text/plain": [
       "190000"
      ]
     },
     "execution_count": 14,
     "metadata": {},
     "output_type": "execute_result"
    }
   ],
   "source": [
    "df.count()"
   ]
  },
  {
   "cell_type": "code",
   "execution_count": 15,
   "metadata": {
    "colab": {
     "base_uri": "https://localhost:8080/"
    },
    "id": "9BMT2DFUidRk",
    "outputId": "62bedf43-1e50-4c1f-bbe0-2ef49d05a920"
   },
   "outputs": [
    {
     "name": "stdout",
     "output_type": "stream",
     "text": [
      "+-----------+----------+-------+------------+----------+---------+\n",
      "| station_id|      date|tmp_val|station_id_2|    date_2|tmp_val_2|\n",
      "+-----------+----------+-------+------------+----------+---------+\n",
      "|02520099999|2016-01-01|      6| 01016099999|2016-01-01|        4|\n",
      "|02520099999|2016-01-02|      4| 01016099999|2016-01-02|        6|\n",
      "|02520099999|2016-01-03|    -38| 01016099999|2016-01-03|        0|\n",
      "|02520099999|2016-01-04|    -58| 01016099999|2016-01-04|        0|\n",
      "|02520099999|2016-01-05|    -65| 01016099999|2016-01-05|      -53|\n",
      "|02520099999|2016-01-06|    -91| 01016099999|2016-01-06|     -104|\n",
      "|02520099999|2016-01-07|   -130| 01016099999|2016-01-07|      -62|\n",
      "|02520099999|2016-01-08|    -47| 01016099999|2016-01-08|     -102|\n",
      "|02520099999|2016-01-09|    -49| 01016099999|2016-01-09|      -72|\n",
      "|02520099999|2016-01-10|    -25| 01016099999|2016-01-10|      -69|\n",
      "|02520099999|2016-01-11|     12| 01016099999|2016-01-11|      -93|\n",
      "|02520099999|2016-01-12|      5| 01016099999|2016-01-12|     -126|\n",
      "|02520099999|2016-01-13|    -27| 01016099999|2016-01-13|      -86|\n",
      "|02520099999|2016-01-14|    -73| 01016099999|2016-01-14|      -71|\n",
      "|02520099999|2016-01-15|   -142| 01016099999|2016-01-15|      -61|\n",
      "|02520099999|2016-01-16|   -105| 01016099999|2016-01-16|      -62|\n",
      "|02520099999|2016-01-17|   -156| 01016099999|2016-01-17|      -27|\n",
      "|02520099999|2016-01-18|    -99| 01016099999|2016-01-18|      -30|\n",
      "|02520099999|2016-01-19|    -61| 01016099999|2016-01-19|      -42|\n",
      "|02520099999|2016-01-20|    -57| 01016099999|2016-01-20|      -70|\n",
      "+-----------+----------+-------+------------+----------+---------+\n",
      "only showing top 20 rows\n",
      "\n"
     ]
    }
   ],
   "source": [
    "df.show()"
   ]
  },
  {
   "cell_type": "code",
   "execution_count": 16,
   "metadata": {
    "id": "kvP69MFHDPg5"
   },
   "outputs": [],
   "source": [
    "df = df.select('station_id', 'station_id_2', 'date', 'tmp_val', 'tmp_val_2')"
   ]
  },
  {
   "cell_type": "code",
   "execution_count": 17,
   "metadata": {
    "id": "AX_IX5vKDsoP"
   },
   "outputs": [],
   "source": [
    "from pyspark.sql.types import StringType, FloatType\n",
    "\n",
    "def max(a,b):\n",
    "  if float(a) > float(b):\n",
    "    return float(a)\n",
    "  else:\n",
    "    return float(b)\n",
    "\n",
    "def min(a,b):\n",
    "  if float(a) > float(b):\n",
    "    return float(b)\n",
    "  else:\n",
    "    return float(a)\n",
    "\n",
    "def avg(a,b):\n",
    "  return (float(a) + float(b))/2\n",
    "\n",
    "max_udf = f.udf(max, FloatType())\n",
    "min_udf = f.udf(min, FloatType())\n",
    "avg_udf = f.udf(avg, FloatType())"
   ]
  },
  {
   "cell_type": "code",
   "execution_count": 18,
   "metadata": {
    "id": "BAUaLKb29vc6"
   },
   "outputs": [],
   "source": [
    "df = df.withColumn('min', min_udf('tmp_val', 'tmp_val_2'))\\\n",
    "  .withColumn('avg', avg_udf('tmp_val', 'tmp_val_2'))\\\n",
    "  .withColumn('max', max_udf('tmp_val', 'tmp_val_2'))"
   ]
  },
  {
   "cell_type": "code",
   "execution_count": 19,
   "metadata": {
    "colab": {
     "base_uri": "https://localhost:8080/"
    },
    "id": "H-aMrbC4DbKx",
    "outputId": "f2a5d56d-d8db-494d-f0f7-b10b0ad125c2"
   },
   "outputs": [
    {
     "name": "stdout",
     "output_type": "stream",
     "text": [
      "+-----------+------------+----------+-------+---------+------+------+-----+\n",
      "| station_id|station_id_2|      date|tmp_val|tmp_val_2|   min|   avg|  max|\n",
      "+-----------+------------+----------+-------+---------+------+------+-----+\n",
      "|02520099999| 01016099999|2016-01-01|      6|        4|   4.0|   5.0|  6.0|\n",
      "|02520099999| 01016099999|2016-01-02|      4|        6|   4.0|   5.0|  6.0|\n",
      "|02520099999| 01016099999|2016-01-03|    -38|        0| -38.0| -19.0|  0.0|\n",
      "|02520099999| 01016099999|2016-01-04|    -58|        0| -58.0| -29.0|  0.0|\n",
      "|02520099999| 01016099999|2016-01-05|    -65|      -53| -65.0| -59.0|-53.0|\n",
      "|02520099999| 01016099999|2016-01-06|    -91|     -104|-104.0| -97.5|-91.0|\n",
      "|02520099999| 01016099999|2016-01-07|   -130|      -62|-130.0| -96.0|-62.0|\n",
      "|02520099999| 01016099999|2016-01-08|    -47|     -102|-102.0| -74.5|-47.0|\n",
      "|02520099999| 01016099999|2016-01-09|    -49|      -72| -72.0| -60.5|-49.0|\n",
      "|02520099999| 01016099999|2016-01-10|    -25|      -69| -69.0| -47.0|-25.0|\n",
      "|02520099999| 01016099999|2016-01-11|     12|      -93| -93.0| -40.5| 12.0|\n",
      "|02520099999| 01016099999|2016-01-12|      5|     -126|-126.0| -60.5|  5.0|\n",
      "|02520099999| 01016099999|2016-01-13|    -27|      -86| -86.0| -56.5|-27.0|\n",
      "|02520099999| 01016099999|2016-01-14|    -73|      -71| -73.0| -72.0|-71.0|\n",
      "|02520099999| 01016099999|2016-01-15|   -142|      -61|-142.0|-101.5|-61.0|\n",
      "|02520099999| 01016099999|2016-01-16|   -105|      -62|-105.0| -83.5|-62.0|\n",
      "|02520099999| 01016099999|2016-01-17|   -156|      -27|-156.0| -91.5|-27.0|\n",
      "|02520099999| 01016099999|2016-01-18|    -99|      -30| -99.0| -64.5|-30.0|\n",
      "|02520099999| 01016099999|2016-01-19|    -61|      -42| -61.0| -51.5|-42.0|\n",
      "|02520099999| 01016099999|2016-01-20|    -57|      -70| -70.0| -63.5|-57.0|\n",
      "+-----------+------------+----------+-------+---------+------+------+-----+\n",
      "only showing top 20 rows\n",
      "\n"
     ]
    }
   ],
   "source": [
    "df.show()"
   ]
  },
  {
   "cell_type": "code",
   "execution_count": 20,
   "metadata": {
    "id": "VlsIXWWmFo89"
   },
   "outputs": [],
   "source": [
    "def unqiue_combination(a, b):\n",
    "  col = [a, b]\n",
    "  col.sort()\n",
    "  return '_'.join(col)\n",
    "\n",
    "my_udf = f.udf(unqiue_combination, StringType())"
   ]
  },
  {
   "cell_type": "code",
   "execution_count": 21,
   "metadata": {
    "id": "RvpgOSWkEcA-"
   },
   "outputs": [],
   "source": [
    "df = df.withColumn('combo_id', my_udf('station_id', 'station_id_2')).select('combo_id', 'date', 'min', 'avg', 'max')"
   ]
  },
  {
   "cell_type": "code",
   "execution_count": 22,
   "metadata": {
    "colab": {
     "base_uri": "https://localhost:8080/"
    },
    "id": "f8219gfSGB2Q",
    "outputId": "893f7292-c6e5-402c-e5db-f88ef2a3bcf2"
   },
   "outputs": [
    {
     "name": "stdout",
     "output_type": "stream",
     "text": [
      "+--------------------+----------+------+------+-----+\n",
      "|            combo_id|      date|   min|   avg|  max|\n",
      "+--------------------+----------+------+------+-----+\n",
      "|01016099999_02520...|2016-01-01|   4.0|   5.0|  6.0|\n",
      "|01016099999_02520...|2016-01-02|   4.0|   5.0|  6.0|\n",
      "|01016099999_02520...|2016-01-03| -38.0| -19.0|  0.0|\n",
      "|01016099999_02520...|2016-01-04| -58.0| -29.0|  0.0|\n",
      "|01016099999_02520...|2016-01-05| -65.0| -59.0|-53.0|\n",
      "|01016099999_02520...|2016-01-06|-104.0| -97.5|-91.0|\n",
      "|01016099999_02520...|2016-01-07|-130.0| -96.0|-62.0|\n",
      "|01016099999_02520...|2016-01-08|-102.0| -74.5|-47.0|\n",
      "|01016099999_02520...|2016-01-09| -72.0| -60.5|-49.0|\n",
      "|01016099999_02520...|2016-01-10| -69.0| -47.0|-25.0|\n",
      "|01016099999_02520...|2016-01-11| -93.0| -40.5| 12.0|\n",
      "|01016099999_02520...|2016-01-12|-126.0| -60.5|  5.0|\n",
      "|01016099999_02520...|2016-01-13| -86.0| -56.5|-27.0|\n",
      "|01016099999_02520...|2016-01-14| -73.0| -72.0|-71.0|\n",
      "|01016099999_02520...|2016-01-15|-142.0|-101.5|-61.0|\n",
      "|01016099999_02520...|2016-01-16|-105.0| -83.5|-62.0|\n",
      "|01016099999_02520...|2016-01-17|-156.0| -91.5|-27.0|\n",
      "|01016099999_02520...|2016-01-18| -99.0| -64.5|-30.0|\n",
      "|01016099999_02520...|2016-01-19| -61.0| -51.5|-42.0|\n",
      "|01016099999_02520...|2016-01-20| -70.0| -63.5|-57.0|\n",
      "+--------------------+----------+------+------+-----+\n",
      "only showing top 20 rows\n",
      "\n"
     ]
    }
   ],
   "source": [
    "df.show()"
   ]
  },
  {
   "cell_type": "code",
   "execution_count": null,
   "metadata": {
    "id": "x2JA4HeiGDq6"
   },
   "outputs": [],
   "source": []
  },
  {
   "cell_type": "markdown",
   "metadata": {
    "id": "6Bf4lTZcHlnt"
   },
   "source": [
    "------"
   ]
  },
  {
   "cell_type": "code",
   "execution_count": 23,
   "metadata": {
    "colab": {
     "base_uri": "https://localhost:8080/"
    },
    "id": "igXhayLNHmUr",
    "outputId": "8ffab7bf-8ada-429d-a8d1-2d32d7e28736"
   },
   "outputs": [
    {
     "name": "stdout",
     "output_type": "stream",
     "text": [
      "+---+--------------------+----------+-----+\n",
      "|_c0|          stock_name|      date|price|\n",
      "+---+--------------------+----------+-----+\n",
      "|  0|1004.Asien--Austr...|2016-01-01| 57.5|\n",
      "|  1|1004.Asien--Austr...|2016-01-02| 57.5|\n",
      "|  2|1004.Asien--Austr...|2016-01-03| 57.5|\n",
      "|  3|1004.Asien--Austr...|2016-01-04| 57.8|\n",
      "|  4|1004.Asien--Austr...|2016-01-05|57.17|\n",
      "|  5|1004.Asien--Austr...|2016-01-06|57.65|\n",
      "|  6|1004.Asien--Austr...|2016-01-07| 58.4|\n",
      "|  7|1004.Asien--Austr...|2016-01-08|56.44|\n",
      "|  8|1004.Asien--Austr...|2016-01-09|56.44|\n",
      "|  9|1004.Asien--Austr...|2016-01-10|56.44|\n",
      "| 10|1004.Asien--Austr...|2016-01-11| 56.0|\n",
      "| 11|1004.Asien--Austr...|2016-01-12|56.72|\n",
      "| 12|1004.Asien--Austr...|2016-01-13|56.11|\n",
      "| 13|1004.Asien--Austr...|2016-01-14|55.08|\n",
      "| 14|1004.Asien--Austr...|2016-01-15|56.97|\n",
      "| 15|1004.Asien--Austr...|2016-01-16|56.97|\n",
      "| 16|1004.Asien--Austr...|2016-01-17|56.97|\n",
      "| 17|1004.Asien--Austr...|2016-01-18|54.69|\n",
      "| 18|1004.Asien--Austr...|2016-01-19|56.33|\n",
      "| 19|1004.Asien--Austr...|2016-01-20|56.89|\n",
      "+---+--------------------+----------+-----+\n",
      "only showing top 20 rows\n",
      "\n"
     ]
    }
   ],
   "source": [
    "stocks_df=ss.read.option('header', True).csv('aligned data/stocks-ta2.csv').limit(20000)\n",
    "stocks_df.show()"
   ]
  },
  {
   "cell_type": "code",
   "execution_count": 24,
   "metadata": {
    "id": "O8q1EEgXQBRn"
   },
   "outputs": [],
   "source": [
    "stocks_df = stocks_df.withColumn('price', f.col('price').cast(FloatType()))"
   ]
  },
  {
   "cell_type": "code",
   "execution_count": 25,
   "metadata": {
    "id": "Qc9rV2-zHqq7"
   },
   "outputs": [],
   "source": [
    "from pyspark.sql.types import FloatType, DoubleType\n",
    "\n",
    "big_df = stocks_df.alias('a').join(df.alias('b'), f.col('a.date') == f.col('b.date'), 'inner')\n",
    "big_df = big_df.withColumn(\"cosine_sim\", f.lit(1.0).cast(\"float\"))\n",
    "big_df = big_df.select('a.date', 'stock_name', 'combo_id', 'price', 'avg', 'min', 'max', 'cosine_sim')"
   ]
  },
  {
   "cell_type": "code",
   "execution_count": 26,
   "metadata": {
    "colab": {
     "base_uri": "https://localhost:8080/"
    },
    "id": "bnKXhAlYOs6w",
    "outputId": "90805982-31e2-4f05-f9be-30b0d2838118"
   },
   "outputs": [
    {
     "data": {
      "text/plain": [
       "[StructField(date,StringType,true),\n",
       " StructField(stock_name,StringType,true),\n",
       " StructField(combo_id,StringType,true),\n",
       " StructField(price,FloatType,true),\n",
       " StructField(avg,FloatType,true),\n",
       " StructField(min,FloatType,true),\n",
       " StructField(max,FloatType,true),\n",
       " StructField(cosine_sim,FloatType,false)]"
      ]
     },
     "execution_count": 26,
     "metadata": {},
     "output_type": "execute_result"
    }
   ],
   "source": [
    "list(big_df.schema)"
   ]
  },
  {
   "cell_type": "code",
   "execution_count": 27,
   "metadata": {
    "colab": {
     "base_uri": "https://localhost:8080/"
    },
    "id": "aQelto60K79s",
    "outputId": "1bdebb72-abc8-4200-9cdd-2e3c75115b63"
   },
   "outputs": [
    {
     "data": {
      "text/plain": [
       "['date', 'stock_name', 'combo_id', 'price', 'avg', 'min', 'max', 'cosine_sim']"
      ]
     },
     "execution_count": 27,
     "metadata": {},
     "output_type": "execute_result"
    }
   ],
   "source": [
    "big_df.columns"
   ]
  },
  {
   "cell_type": "code",
   "execution_count": 28,
   "metadata": {
    "colab": {
     "base_uri": "https://localhost:8080/"
    },
    "id": "MsLGUSk0TSdr",
    "outputId": "2bddbe69-3995-416a-af97-fa015954aa29"
   },
   "outputs": [
    {
     "data": {
      "text/plain": [
       "3800000"
      ]
     },
     "execution_count": 28,
     "metadata": {},
     "output_type": "execute_result"
    }
   ],
   "source": [
    "big_df.count()"
   ]
  },
  {
   "cell_type": "code",
   "execution_count": 29,
   "metadata": {
    "id": "0n0WJkHlJemQ"
   },
   "outputs": [],
   "source": [
    "from pyspark.sql.functions import PandasUDFType, pandas_udf"
   ]
  },
  {
   "cell_type": "code",
   "execution_count": 30,
   "metadata": {
    "id": "Xs2dNyWDJgSl"
   },
   "outputs": [],
   "source": [
    "import numpy as np\n",
    "\n",
    "@pandas_udf(big_df.schema, PandasUDFType.GROUPED_MAP)\n",
    "def cos_sim(df):\n",
    "    # Names of columns \n",
    "    a, b = \"price\", \"avg\" #('min', 'max', 'avg')\n",
    "    cosine_sim_col = \"cosine_sim\"\n",
    "    df[cosine_sim_col] = float(np.dot(df[a], df[b]) / (np.linalg.norm(df[a]) * np.linalg.norm(df[b])))\n",
    "    return df"
   ]
  },
  {
   "cell_type": "code",
   "execution_count": 31,
   "metadata": {
    "colab": {
     "base_uri": "https://localhost:8080/"
    },
    "id": "zbxV0WATJ02o",
    "outputId": "6305b48d-2739-470c-a030-bebfb45d7cd1"
   },
   "outputs": [
    {
     "name": "stderr",
     "output_type": "stream",
     "text": [
      "C:\\Spark\\spark-3.2.1-bin-hadoop3.2\\python\\pyspark\\sql\\pandas\\group_ops.py:81: UserWarning: It is preferred to use 'applyInPandas' over this API. This API will be deprecated in the future releases. See SPARK-28264 for more details.\n",
      "  warnings.warn(\n"
     ]
    }
   ],
   "source": [
    "df_final = big_df.groupby([\"stock_name\", \"combo_id\"]).apply(cos_sim)"
   ]
  },
  {
   "cell_type": "code",
   "execution_count": 32,
   "metadata": {
    "colab": {
     "base_uri": "https://localhost:8080/"
    },
    "id": "QLnksqe7KCz0",
    "outputId": "cbe4bb72-5ede-4cbf-8843-43f5238c72f0"
   },
   "outputs": [
    {
     "data": {
      "text/plain": [
       "3800000"
      ]
     },
     "execution_count": 32,
     "metadata": {},
     "output_type": "execute_result"
    }
   ],
   "source": [
    "df_final.count()"
   ]
  },
  {
   "cell_type": "code",
   "execution_count": 33,
   "metadata": {
    "id": "azj-z5VxKzuQ"
   },
   "outputs": [],
   "source": [
    "#df_final.write.mode('overwrite').csv('/content/drive/MyDrive/BigDataManagement/final data/cosines.csv')"
   ]
  },
  {
   "cell_type": "code",
   "execution_count": 36,
   "metadata": {
    "colab": {
     "base_uri": "https://localhost:8080/"
    },
    "id": "P7r3XCoWLOLs",
    "outputId": "03b25488-3de0-4db2-dac9-c68bade5520d"
   },
   "outputs": [],
   "source": [
    "df_cosine = df_final.groupBy([\"stock_name\", \"combo_id\"]).agg(f.avg(\"cosine_sim\").alias(\"cossim\")).orderBy('cossim', ascending=False)"
   ]
  },
  {
   "cell_type": "code",
   "execution_count": 37,
   "metadata": {},
   "outputs": [
    {
     "name": "stdout",
     "output_type": "stream",
     "text": [
      "+--------------------+--------------------+------------------+\n",
      "|          stock_name|            combo_id|            cossim|\n",
      "+--------------------+--------------------+------------------+\n",
      "|10679.Asien--Aust...|06207099999_08524...|0.9680027365684509|\n",
      "|10679.Asien--Aust...|03066099999_08524...|0.9667748212814331|\n",
      "|10698.Asien--Aust...|06207099999_08524...|0.9648411273956299|\n",
      "|10612.Asien--Aust...|06207099999_08524...|0.9646366238594055|\n",
      "|10679.Asien--Aust...|03862099999_08524...|0.9641612768173218|\n",
      "|1004.Asien--Austr...|06207099999_08524...|0.9641315340995789|\n",
      "|10882.Asien--Aust...|06207099999_08524...|0.9635195732116699|\n",
      "|10698.Asien--Aust...|03066099999_08524...|0.9632365107536316|\n",
      "|1004.Asien--Austr...|03066099999_08524...|0.9627445340156555|\n",
      "|10882.Asien--Aust...|03066099999_08524...|0.9626549482345581|\n",
      "|10612.Asien--Aust...|03066099999_08524...| 0.962486982345581|\n",
      "|10698.Asien--Aust...|03862099999_08524...| 0.961978554725647|\n",
      "|10882.Asien--Aust...|03862099999_08524...|0.9614698886871338|\n",
      "|11006.Asien--Aust...|06207099999_08524...|0.9613999724388123|\n",
      "|1051.Asien--Austr...|06207099999_08524...|0.9613800644874573|\n",
      "|10612.Asien--Aust...|03862099999_08524...|0.9607232213020325|\n",
      "|11006.Asien--Aust...|03066099999_08524...|0.9606717228889465|\n",
      "|1051.Asien--Austr...|03066099999_08524...|0.9600548148155212|\n",
      "|1004.Asien--Austr...|03862099999_08524...|0.9599360227584839|\n",
      "|11006.Asien--Aust...|03862099999_08524...|0.9594107270240784|\n",
      "+--------------------+--------------------+------------------+\n",
      "only showing top 20 rows\n",
      "\n"
     ]
    }
   ],
   "source": [
    "df_cosine.show()"
   ]
  },
  {
   "cell_type": "code",
   "execution_count": 39,
   "metadata": {},
   "outputs": [
    {
     "data": {
      "text/plain": [
       "18"
      ]
     },
     "execution_count": 39,
     "metadata": {},
     "output_type": "execute_result"
    }
   ],
   "source": [
    "df_cosine = df_cosine.filter(df_cosine.cossim >= 0.96)\n",
    "df_cosine.count()"
   ]
  },
  {
   "cell_type": "code",
   "execution_count": 35,
   "metadata": {
    "colab": {
     "base_uri": "https://localhost:8080/"
    },
    "id": "tXFrKfhpSKcn",
    "outputId": "a8db10cc-521d-4e1c-ecf2-11852cad87e0"
   },
   "outputs": [
    {
     "data": {
      "text/plain": [
       "3800"
      ]
     },
     "execution_count": 35,
     "metadata": {},
     "output_type": "execute_result"
    }
   ],
   "source": [
    "df_final.groupBy([\"stock_name\", \"combo_id\"]).agg(f.avg(\"cosine_sim\").alias(\"cossim\")).orderBy('cossim', ascending=False).count()"
   ]
  },
  {
   "cell_type": "code",
   "execution_count": null,
   "metadata": {},
   "outputs": [],
   "source": []
  }
 ],
 "metadata": {
  "colab": {
   "collapsed_sections": [],
   "name": "Part2_Big_data.ipynb",
   "provenance": []
  },
  "kernelspec": {
   "display_name": "Python 3 (ipykernel)",
   "language": "python",
   "name": "python3"
  },
  "language_info": {
   "codemirror_mode": {
    "name": "ipython",
    "version": 3
   },
   "file_extension": ".py",
   "mimetype": "text/x-python",
   "name": "python",
   "nbconvert_exporter": "python",
   "pygments_lexer": "ipython3",
   "version": "3.9.7"
  }
 },
 "nbformat": 4,
 "nbformat_minor": 1
}
