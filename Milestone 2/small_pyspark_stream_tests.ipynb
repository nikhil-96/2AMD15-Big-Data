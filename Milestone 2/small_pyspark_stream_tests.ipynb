{
 "cells": [
  {
   "cell_type": "code",
   "execution_count": 1,
   "id": "6a0c9ee3",
   "metadata": {},
   "outputs": [],
   "source": [
    "import findspark\n",
    "findspark.init()"
   ]
  },
  {
   "cell_type": "code",
   "execution_count": 2,
   "id": "afc66294",
   "metadata": {},
   "outputs": [
    {
     "name": "stderr",
     "output_type": "stream",
     "text": [
      "C:\\Spark\\spark-3.2.0-bin-hadoop3.2\\python\\pyspark\\context.py:238: FutureWarning: Python 3.6 support is deprecated in Spark 3.2.\n",
      "  FutureWarning\n"
     ]
    }
   ],
   "source": [
    "import pyspark\n",
    "from pyspark import SparkContext\n",
    "from pyspark.streaming import StreamingContext\n",
    "\n",
    "sc = SparkContext() \n",
    "ssc = StreamingContext(sc, 5)\n",
    "lines = ssc.socketTextStream(\"localhost\", 9000)"
   ]
  },
  {
   "cell_type": "markdown",
   "id": "88abcbdf",
   "metadata": {},
   "source": [
    "----"
   ]
  },
  {
   "cell_type": "code",
   "execution_count": 3,
   "id": "56b90cfd",
   "metadata": {},
   "outputs": [],
   "source": [
    "import numpy as np\n",
    "from scipy import sparse\n",
    "\n",
    "def get_vals(w: int = 5):\n",
    "    coefs = np.random.randint(1, 1000, (w,w))\n",
    "    p = np.random.randint(3000, 100000, w)\n",
    "    return coefs, p + ~(p % 2).astype(bool)\n",
    "\n",
    "def fit_poly(row, x):\n",
    "    return np.poly1d(row)(x)\n",
    "\n",
    "def cm_multihash(x: int, counts: int, coefs, p, const: int = 2719):\n",
    "    table = np.zeros((p.shape[0], const))\n",
    "    j = ((np.apply_along_axis(fit_poly, 1, coefs, x) % p) % const).astype(int)\n",
    "    table[np.arange(0, p.shape[0]),j] = counts\n",
    "    return sparse.csr_matrix(table)\n",
    "\n",
    "def sparse_sim(sk1: sparse.csr.csr_matrix, sk2: sparse.csr.csr_matrix):\n",
    "    return sk1.multiply(sk2).sum(axis = 1).min()"
   ]
  },
  {
   "cell_type": "code",
   "execution_count": 4,
   "id": "426ebea7",
   "metadata": {},
   "outputs": [],
   "source": [
    "coefs, p = get_vals()"
   ]
  },
  {
   "cell_type": "markdown",
   "id": "ee3d76d2",
   "metadata": {},
   "source": [
    "----"
   ]
  },
  {
   "cell_type": "code",
   "execution_count": 9,
   "id": "f4f3a864",
   "metadata": {},
   "outputs": [],
   "source": [
    "tau = 3000"
   ]
  },
  {
   "cell_type": "code",
   "execution_count": 5,
   "id": "600b7690",
   "metadata": {},
   "outputs": [],
   "source": [
    "collect_hashes = lines.window(60).map(lambda line: ((line.split(',')[0], line.split(',')[1]), 1))\\\n",
    "                        .reduceByKey(lambda x,y: x+y)\\\n",
    "                        .map(lambda line: (line[0][0], cm_multihash(int(line[0][1]), line[1], coefs, p)))\\\n",
    "                        .reduceByKey(lambda x,y: x+y)"
   ]
  },
  {
   "cell_type": "code",
   "execution_count": 6,
   "id": "eb45d609",
   "metadata": {},
   "outputs": [],
   "source": [
    "prepared = collect_hashes.map(lambda line: (1, (line[0], line[1])))\n",
    "combo = prepared.transform(lambda RDD: RDD.join(RDD)\\\n",
    "                                          .filter(lambda line: int(line[1][0][0]) > int(line[1][1][0]))\\\n",
    "                                          .map(lambda line: [line[0], sparse_sim(line[1][0][1], line[1][1][1])])\\\n",
    "                                          .filter(lambda line: line[1] >= tau)\n",
    "                           \n",
    "#prepared.pprint(1)\n",
    "combo.pprint(10)"
   ]
  },
  {
   "cell_type": "markdown",
   "id": "b565eb9f",
   "metadata": {},
   "source": [
    "WORKING NOW: 10 rows per second "
   ]
  },
  {
   "cell_type": "code",
   "execution_count": 7,
   "id": "1d24599b",
   "metadata": {},
   "outputs": [
    {
     "name": "stdout",
     "output_type": "stream",
     "text": [
      "-------------------------------------------\n",
      "Time: 2022-03-24 19:20:10\n",
      "-------------------------------------------\n",
      "\n",
      "-------------------------------------------\n",
      "Time: 2022-03-24 19:20:15\n",
      "-------------------------------------------\n",
      "(1, (('44', <5x2719 sparse matrix of type '<class 'numpy.float64'>'\n",
      "\twith 25 stored elements in Compressed Sparse Row format>), ('44', <5x2719 sparse matrix of type '<class 'numpy.float64'>'\n",
      "\twith 25 stored elements in Compressed Sparse Row format>)))\n",
      "...\n",
      "\n",
      "-------------------------------------------\n",
      "Time: 2022-03-24 19:20:20\n",
      "-------------------------------------------\n",
      "(1, (('44', <5x2719 sparse matrix of type '<class 'numpy.float64'>'\n",
      "\twith 35 stored elements in Compressed Sparse Row format>), ('44', <5x2719 sparse matrix of type '<class 'numpy.float64'>'\n",
      "\twith 35 stored elements in Compressed Sparse Row format>)))\n",
      "...\n",
      "\n",
      "-------------------------------------------\n",
      "Time: 2022-03-24 19:20:25\n",
      "-------------------------------------------\n",
      "(1, (('44', <5x2719 sparse matrix of type '<class 'numpy.float64'>'\n",
      "\twith 60 stored elements in Compressed Sparse Row format>), ('44', <5x2719 sparse matrix of type '<class 'numpy.float64'>'\n",
      "\twith 60 stored elements in Compressed Sparse Row format>)))\n",
      "...\n",
      "\n"
     ]
    }
   ],
   "source": [
    "ssc.start()"
   ]
  },
  {
   "cell_type": "code",
   "execution_count": 8,
   "id": "c11233e7",
   "metadata": {},
   "outputs": [],
   "source": [
    "ssc.stop()"
   ]
  }
 ],
 "metadata": {
  "kernelspec": {
   "display_name": "Python 3",
   "language": "python",
   "name": "python3"
  },
  "language_info": {
   "codemirror_mode": {
    "name": "ipython",
    "version": 3
   },
   "file_extension": ".py",
   "mimetype": "text/x-python",
   "name": "python",
   "nbconvert_exporter": "python",
   "pygments_lexer": "ipython3",
   "version": "3.6.8"
  }
 },
 "nbformat": 4,
 "nbformat_minor": 5
}
