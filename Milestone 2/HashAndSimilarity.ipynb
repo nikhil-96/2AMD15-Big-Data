{
 "cells": [
  {
   "cell_type": "markdown",
   "id": "00046fa0",
   "metadata": {},
   "source": [
    "----"
   ]
  },
  {
   "cell_type": "code",
   "execution_count": 1,
   "id": "12dcb5be",
   "metadata": {},
   "outputs": [],
   "source": [
    "import numpy as np"
   ]
  },
  {
   "cell_type": "code",
   "execution_count": 136,
   "id": "f333290b",
   "metadata": {},
   "outputs": [],
   "source": [
    "def sim(sk1: np.ndarray, sk2: np.ndarray):\n",
    "    # return smallest element of row-wise dot product\n",
    "    return min(np.einsum('ij,ij->i', sk1, sk2))"
   ]
  },
  {
   "cell_type": "code",
   "execution_count": 19,
   "id": "b57c5f68",
   "metadata": {},
   "outputs": [
    {
     "name": "stdout",
     "output_type": "stream",
     "text": [
      "2719\n"
     ]
    }
   ],
   "source": [
    "w = np.ceil(np.e/0.001)\n",
    "print(int(w))"
   ]
  },
  {
   "cell_type": "code",
   "execution_count": 20,
   "id": "6c32441b",
   "metadata": {},
   "outputs": [
    {
     "name": "stdout",
     "output_type": "stream",
     "text": [
      "5\n"
     ]
    }
   ],
   "source": [
    "d = np.ceil(np.log(1/0.01))\n",
    "print(int(d))"
   ]
  },
  {
   "cell_type": "markdown",
   "id": "5208829a",
   "metadata": {},
   "source": [
    "----"
   ]
  },
  {
   "cell_type": "code",
   "execution_count": 116,
   "id": "24a4fdbb",
   "metadata": {},
   "outputs": [],
   "source": [
    "import numpy as np\n",
    "from scipy import sparse"
   ]
  },
  {
   "cell_type": "code",
   "execution_count": 95,
   "id": "a0de4e8a",
   "metadata": {},
   "outputs": [],
   "source": [
    "def get_vals(w: int = 5):\n",
    "    coefs = np.random.randint(1, 1000, (w,w))\n",
    "    p = np.random.randint(3000, 100000, w)\n",
    "    return coefs, p + ~(p % 2).astype(bool)"
   ]
  },
  {
   "cell_type": "code",
   "execution_count": 121,
   "id": "7270df2e",
   "metadata": {},
   "outputs": [],
   "source": [
    "def fit_poly(row, x):\n",
    "    return np.poly1d(row)(x)\n",
    "\n",
    "\n",
    "def cm_multihash(x: int, counts: int, coefs, p, const: int = 2719):\n",
    "    table = np.zeros((p.shape[0], const))\n",
    "    j = ((np.apply_along_axis(fit_poly, 1, coefs, x) % p) % const).astype(int)\n",
    "    table[np.arange(0, p.shape[0]),j] = counts\n",
    "    return sparse.csr_matrix(table)"
   ]
  },
  {
   "cell_type": "code",
   "execution_count": 161,
   "id": "71d83df2",
   "metadata": {},
   "outputs": [],
   "source": [
    "def sparse_sim(sk1: sparse.csr.csr_matrix, sk2: sparse.csr.csr_matrix):\n",
    "    return sk1.multiply(sk2).sum(axis = 1).min()"
   ]
  },
  {
   "cell_type": "markdown",
   "id": "f9449882",
   "metadata": {},
   "source": [
    "----"
   ]
  },
  {
   "cell_type": "markdown",
   "id": "44d5db82",
   "metadata": {},
   "source": [
    "#### Testing hash"
   ]
  },
  {
   "cell_type": "code",
   "execution_count": 122,
   "id": "e4f183de",
   "metadata": {},
   "outputs": [],
   "source": [
    "coefs, p = get_vals(5)"
   ]
  },
  {
   "cell_type": "code",
   "execution_count": 127,
   "id": "302dccc1",
   "metadata": {},
   "outputs": [],
   "source": [
    "ip = np.random.randint(0, 2**16)\n",
    "counts = np.random.randint(0, 2000)"
   ]
  },
  {
   "cell_type": "code",
   "execution_count": 128,
   "id": "946affd7",
   "metadata": {},
   "outputs": [],
   "source": [
    "table2 = cm_multihash(ip, counts, coefs, p)"
   ]
  },
  {
   "cell_type": "code",
   "execution_count": 129,
   "id": "1155c1df",
   "metadata": {},
   "outputs": [
    {
     "data": {
      "text/plain": [
       "<5x2719 sparse matrix of type '<class 'numpy.float64'>'\n",
       "\twith 5 stored elements in Compressed Sparse Row format>"
      ]
     },
     "execution_count": 129,
     "metadata": {},
     "output_type": "execute_result"
    }
   ],
   "source": [
    "table1"
   ]
  },
  {
   "cell_type": "code",
   "execution_count": 130,
   "id": "f1a32441",
   "metadata": {},
   "outputs": [
    {
     "data": {
      "text/plain": [
       "<5x2719 sparse matrix of type '<class 'numpy.float64'>'\n",
       "\twith 5 stored elements in Compressed Sparse Row format>"
      ]
     },
     "execution_count": 130,
     "metadata": {},
     "output_type": "execute_result"
    }
   ],
   "source": [
    "table2"
   ]
  },
  {
   "cell_type": "code",
   "execution_count": 135,
   "id": "3047f670",
   "metadata": {},
   "outputs": [
    {
     "data": {
      "text/plain": [
       "<5x2719 sparse matrix of type '<class 'numpy.float64'>'\n",
       "\twith 10 stored elements in Compressed Sparse Row format>"
      ]
     },
     "execution_count": 135,
     "metadata": {},
     "output_type": "execute_result"
    }
   ],
   "source": [
    "table1 + table2 + table1"
   ]
  },
  {
   "cell_type": "code",
   "execution_count": 163,
   "id": "ca97afbc",
   "metadata": {},
   "outputs": [],
   "source": [
    "test1 = sparse.csr_matrix(np.random.randint(0, 100, (5,2719)))\n",
    "test2 = sparse.csr_matrix(np.random.randint(0, 100, (5,2719)))"
   ]
  },
  {
   "cell_type": "code",
   "execution_count": 167,
   "id": "a69272d7",
   "metadata": {},
   "outputs": [
    {
     "data": {
      "text/plain": [
       "<5x2719 sparse matrix of type '<class 'numpy.intc'>'\n",
       "\twith 13592 stored elements in Compressed Sparse Row format>"
      ]
     },
     "execution_count": 167,
     "metadata": {},
     "output_type": "execute_result"
    }
   ],
   "source": [
    "test1 + test2"
   ]
  },
  {
   "cell_type": "code",
   "execution_count": 165,
   "id": "19d25cbf",
   "metadata": {},
   "outputs": [
    {
     "data": {
      "text/plain": [
       "6583018"
      ]
     },
     "execution_count": 165,
     "metadata": {},
     "output_type": "execute_result"
    }
   ],
   "source": [
    "sim(test1.toarray(), test2.toarray())"
   ]
  },
  {
   "cell_type": "code",
   "execution_count": 166,
   "id": "11fe9bee",
   "metadata": {},
   "outputs": [
    {
     "data": {
      "text/plain": [
       "6583018"
      ]
     },
     "execution_count": 166,
     "metadata": {},
     "output_type": "execute_result"
    }
   ],
   "source": [
    "sparse_sim(test1, test2)"
   ]
  },
  {
   "cell_type": "markdown",
   "id": "0eeb0d7f",
   "metadata": {},
   "source": [
    "----"
   ]
  },
  {
   "cell_type": "code",
   "execution_count": 169,
   "id": "0124d123",
   "metadata": {},
   "outputs": [
    {
     "name": "stdout",
     "output_type": "stream",
     "text": [
      "4950\n"
     ]
    }
   ],
   "source": [
    "sum1 = 0\n",
    "\n",
    "for i in range(99, 0, -1):\n",
    "    sum1+=i\n",
    "    \n",
    "print(sum1)"
   ]
  },
  {
   "cell_type": "code",
   "execution_count": null,
   "id": "d684f076",
   "metadata": {},
   "outputs": [],
   "source": []
  }
 ],
 "metadata": {
  "kernelspec": {
   "display_name": "Python 3",
   "language": "python",
   "name": "python3"
  },
  "language_info": {
   "codemirror_mode": {
    "name": "ipython",
    "version": 3
   },
   "file_extension": ".py",
   "mimetype": "text/x-python",
   "name": "python",
   "nbconvert_exporter": "python",
   "pygments_lexer": "ipython3",
   "version": "3.6.8"
  }
 },
 "nbformat": 4,
 "nbformat_minor": 5
}
